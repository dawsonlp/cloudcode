{
 "cells": [
  {
   "cell_type": "markdown",
   "metadata": {},
   "source": [
    "# Students Do: PCA in Action\n",
    "\n",
    "In this activity, you will use PCA to reduce the dimensions of the consumers shopping dataset from `4` to `2` features. After applying PCA, you will use the principal components data, to fit a K-Means model with `k=6` and make some conclusions."
   ]
  },
  {
   "cell_type": "code",
   "execution_count": 1,
   "metadata": {},
   "outputs": [],
   "source": [
    "# Initial imports\n",
    "import pandas as pd\n",
    "from pathlib import Path\n",
    "from sklearn.preprocessing import StandardScaler\n",
    "from sklearn.decomposition import PCA\n",
    "from sklearn.cluster import KMeans\n",
    "import plotly.express as px\n"
   ]
  },
  {
   "cell_type": "markdown",
   "metadata": {},
   "source": [
    "## Instructions\n",
    "\n",
    "1. Import the preprocessed data from the customers shopping dataset into a DataFrame called `df_shopping`."
   ]
  },
  {
   "cell_type": "code",
   "execution_count": 2,
   "metadata": {},
   "outputs": [
    {
     "data": {
      "text/html": [
       "<div>\n",
       "<style scoped>\n",
       "    .dataframe tbody tr th:only-of-type {\n",
       "        vertical-align: middle;\n",
       "    }\n",
       "\n",
       "    .dataframe tbody tr th {\n",
       "        vertical-align: top;\n",
       "    }\n",
       "\n",
       "    .dataframe thead th {\n",
       "        text-align: right;\n",
       "    }\n",
       "</style>\n",
       "<table border=\"1\" class=\"dataframe\">\n",
       "  <thead>\n",
       "    <tr style=\"text-align: right;\">\n",
       "      <th></th>\n",
       "      <th>Genre</th>\n",
       "      <th>Age</th>\n",
       "      <th>Annual Income</th>\n",
       "      <th>Spending Score (1-100)</th>\n",
       "    </tr>\n",
       "  </thead>\n",
       "  <tbody>\n",
       "    <tr>\n",
       "      <th>0</th>\n",
       "      <td>1</td>\n",
       "      <td>19</td>\n",
       "      <td>15.0</td>\n",
       "      <td>39</td>\n",
       "    </tr>\n",
       "    <tr>\n",
       "      <th>1</th>\n",
       "      <td>1</td>\n",
       "      <td>21</td>\n",
       "      <td>15.0</td>\n",
       "      <td>81</td>\n",
       "    </tr>\n",
       "    <tr>\n",
       "      <th>2</th>\n",
       "      <td>0</td>\n",
       "      <td>20</td>\n",
       "      <td>16.0</td>\n",
       "      <td>6</td>\n",
       "    </tr>\n",
       "    <tr>\n",
       "      <th>3</th>\n",
       "      <td>0</td>\n",
       "      <td>23</td>\n",
       "      <td>16.0</td>\n",
       "      <td>77</td>\n",
       "    </tr>\n",
       "    <tr>\n",
       "      <th>4</th>\n",
       "      <td>0</td>\n",
       "      <td>31</td>\n",
       "      <td>17.0</td>\n",
       "      <td>40</td>\n",
       "    </tr>\n",
       "  </tbody>\n",
       "</table>\n",
       "</div>"
      ],
      "text/plain": [
       "   Genre  Age  Annual Income  Spending Score (1-100)\n",
       "0      1   19           15.0                      39\n",
       "1      1   21           15.0                      81\n",
       "2      0   20           16.0                       6\n",
       "3      0   23           16.0                      77\n",
       "4      0   31           17.0                      40"
      ]
     },
     "execution_count": 2,
     "metadata": {},
     "output_type": "execute_result"
    }
   ],
   "source": [
    "# Import data\n",
    "file_path = Path(\"Data/shopping_data_cleaned.csv\")\n",
    "df_shopping = pd.read_csv(file_path)\n",
    "df_shopping.head()\n"
   ]
  },
  {
   "cell_type": "markdown",
   "metadata": {},
   "source": [
    "2. Standardize the data of all the DataFrame features."
   ]
  },
  {
   "cell_type": "code",
   "execution_count": 3,
   "metadata": {},
   "outputs": [
    {
     "name": "stdout",
     "output_type": "stream",
     "text": [
      "[[ 1.12815215 -1.42456879 -1.73899919 -0.43480148]\n",
      " [ 1.12815215 -1.28103541 -1.73899919  1.19570407]\n",
      " [-0.88640526 -1.3528021  -1.70082976 -1.71591298]\n",
      " [-0.88640526 -1.13750203 -1.70082976  1.04041783]\n",
      " [-0.88640526 -0.56336851 -1.66266033 -0.39597992]]\n"
     ]
    }
   ],
   "source": [
    "# Standardize data\n",
    "shopping_scaled = StandardScaler().fit_transform(df_shopping)\n",
    "print(shopping_scaled[0:5])\n"
   ]
  },
  {
   "cell_type": "markdown",
   "metadata": {},
   "source": [
    "3. Apply PCA to reduce dimensions from 4 to 2 and create a DataFrame with the principal components data."
   ]
  },
  {
   "cell_type": "code",
   "execution_count": 4,
   "metadata": {},
   "outputs": [],
   "source": [
    "# Initialize PCA model\n",
    "pca = PCA(n_components=2)\n",
    "\n",
    "# Get two principal components for the data.\n",
    "shopping_pca = pca.fit_transform(shopping_scaled)\n",
    "\n"
   ]
  },
  {
   "cell_type": "code",
   "execution_count": 5,
   "metadata": {},
   "outputs": [
    {
     "data": {
      "text/html": [
       "<div>\n",
       "<style scoped>\n",
       "    .dataframe tbody tr th:only-of-type {\n",
       "        vertical-align: middle;\n",
       "    }\n",
       "\n",
       "    .dataframe tbody tr th {\n",
       "        vertical-align: top;\n",
       "    }\n",
       "\n",
       "    .dataframe thead th {\n",
       "        text-align: right;\n",
       "    }\n",
       "</style>\n",
       "<table border=\"1\" class=\"dataframe\">\n",
       "  <thead>\n",
       "    <tr style=\"text-align: right;\">\n",
       "      <th></th>\n",
       "      <th>principal component 1</th>\n",
       "      <th>principal component 2</th>\n",
       "    </tr>\n",
       "  </thead>\n",
       "  <tbody>\n",
       "    <tr>\n",
       "      <th>0</th>\n",
       "      <td>-0.406383</td>\n",
       "      <td>-0.520714</td>\n",
       "    </tr>\n",
       "    <tr>\n",
       "      <th>1</th>\n",
       "      <td>-1.427673</td>\n",
       "      <td>-0.367310</td>\n",
       "    </tr>\n",
       "    <tr>\n",
       "      <th>2</th>\n",
       "      <td>0.050761</td>\n",
       "      <td>-1.894068</td>\n",
       "    </tr>\n",
       "    <tr>\n",
       "      <th>3</th>\n",
       "      <td>-1.694513</td>\n",
       "      <td>-1.631908</td>\n",
       "    </tr>\n",
       "    <tr>\n",
       "      <th>4</th>\n",
       "      <td>-0.313108</td>\n",
       "      <td>-1.810483</td>\n",
       "    </tr>\n",
       "  </tbody>\n",
       "</table>\n",
       "</div>"
      ],
      "text/plain": [
       "   principal component 1  principal component 2\n",
       "0              -0.406383              -0.520714\n",
       "1              -1.427673              -0.367310\n",
       "2               0.050761              -1.894068\n",
       "3              -1.694513              -1.631908\n",
       "4              -0.313108              -1.810483"
      ]
     },
     "execution_count": 5,
     "metadata": {},
     "output_type": "execute_result"
    }
   ],
   "source": [
    "# Transform PCA data to a DataFrame\n",
    "df_shopping_pca = pd.DataFrame(\n",
    "    data=shopping_pca, columns=[\"principal component 1\", \"principal component 2\"]\n",
    ")\n",
    "df_shopping_pca.head()\n"
   ]
  },
  {
   "cell_type": "markdown",
   "metadata": {},
   "source": [
    "4. Fetch the explained variance, analyze its value and answer the following question: Are two principal components the best number of new dimensions?"
   ]
  },
  {
   "cell_type": "code",
   "execution_count": 6,
   "metadata": {},
   "outputs": [
    {
     "data": {
      "text/plain": [
       "array([0.33690046, 0.26230645])"
      ]
     },
     "execution_count": 6,
     "metadata": {},
     "output_type": "execute_result"
    }
   ],
   "source": [
    "# Fetch the explained variance\n",
    "pca.explained_variance_ratio_\n"
   ]
  },
  {
   "cell_type": "markdown",
   "metadata": {},
   "source": [
    "**Sample Answer**\n",
    "\n",
    "According to the explained variance, the first principal component contains `33.7%` of the variance and the second principal component contains `26.2%` of the variance. We have `59.9%` of the information in the original dataset, so we can explore increasing the number of principal components up to three to verify if this ratio increases."
   ]
  },
  {
   "cell_type": "markdown",
   "metadata": {},
   "source": [
    "5. If you conclude that two principal components is the appropriate number of new dimensions, proceed to step 6, on the contrary, explore what happens if you modify the number of principal components. Once you finish, write your conclusions."
   ]
  },
  {
   "cell_type": "code",
   "execution_count": 6,
   "metadata": {},
   "outputs": [],
   "source": [
    "# Initialize PCA model\n",
    "pca = PCA(n_components=3)\n",
    "\n",
    "# Get two principal components for the iris data.\n",
    "shopping_pca = pca.fit_transform(shopping_scaled)\n",
    "\n"
   ]
  },
  {
   "cell_type": "code",
   "execution_count": 7,
   "metadata": {},
   "outputs": [
    {
     "data": {
      "text/html": [
       "<div>\n",
       "<style scoped>\n",
       "    .dataframe tbody tr th:only-of-type {\n",
       "        vertical-align: middle;\n",
       "    }\n",
       "\n",
       "    .dataframe tbody tr th {\n",
       "        vertical-align: top;\n",
       "    }\n",
       "\n",
       "    .dataframe thead th {\n",
       "        text-align: right;\n",
       "    }\n",
       "</style>\n",
       "<table border=\"1\" class=\"dataframe\">\n",
       "  <thead>\n",
       "    <tr style=\"text-align: right;\">\n",
       "      <th></th>\n",
       "      <th>principal component 1</th>\n",
       "      <th>principal component 2</th>\n",
       "      <th>principal component 3</th>\n",
       "    </tr>\n",
       "  </thead>\n",
       "  <tbody>\n",
       "    <tr>\n",
       "      <th>0</th>\n",
       "      <td>-0.406383</td>\n",
       "      <td>-0.520714</td>\n",
       "      <td>-2.072527</td>\n",
       "    </tr>\n",
       "    <tr>\n",
       "      <th>1</th>\n",
       "      <td>-1.427673</td>\n",
       "      <td>-0.367310</td>\n",
       "      <td>-2.277644</td>\n",
       "    </tr>\n",
       "    <tr>\n",
       "      <th>2</th>\n",
       "      <td>0.050761</td>\n",
       "      <td>-1.894068</td>\n",
       "      <td>-0.367375</td>\n",
       "    </tr>\n",
       "    <tr>\n",
       "      <th>3</th>\n",
       "      <td>-1.694513</td>\n",
       "      <td>-1.631908</td>\n",
       "      <td>-0.717467</td>\n",
       "    </tr>\n",
       "    <tr>\n",
       "      <th>4</th>\n",
       "      <td>-0.313108</td>\n",
       "      <td>-1.810483</td>\n",
       "      <td>-0.426460</td>\n",
       "    </tr>\n",
       "  </tbody>\n",
       "</table>\n",
       "</div>"
      ],
      "text/plain": [
       "   principal component 1  principal component 2  principal component 3\n",
       "0              -0.406383              -0.520714              -2.072527\n",
       "1              -1.427673              -0.367310              -2.277644\n",
       "2               0.050761              -1.894068              -0.367375\n",
       "3              -1.694513              -1.631908              -0.717467\n",
       "4              -0.313108              -1.810483              -0.426460"
      ]
     },
     "execution_count": 7,
     "metadata": {},
     "output_type": "execute_result"
    }
   ],
   "source": [
    "# Transform PCA data to a DataFrame\n",
    "df_shopping_pca = pd.DataFrame(\n",
    "    data=shopping_pca,\n",
    "    columns=[\"principal component 1\", \"principal component 2\", \"principal component 3\"],\n",
    ")\n",
    "df_shopping_pca.head()\n",
    "\n"
   ]
  },
  {
   "cell_type": "code",
   "execution_count": 15,
   "metadata": {},
   "outputs": [
    {
     "data": {
      "text/plain": [
       "['T',\n",
       " '_AXIS_ALIASES',\n",
       " '_AXIS_IALIASES',\n",
       " '_AXIS_LEN',\n",
       " '_AXIS_NAMES',\n",
       " '_AXIS_NUMBERS',\n",
       " '_AXIS_ORDERS',\n",
       " '_AXIS_REVERSED',\n",
       " '__abs__',\n",
       " '__add__',\n",
       " '__and__',\n",
       " '__annotations__',\n",
       " '__array__',\n",
       " '__array_priority__',\n",
       " '__array_wrap__',\n",
       " '__bool__',\n",
       " '__class__',\n",
       " '__contains__',\n",
       " '__copy__',\n",
       " '__deepcopy__',\n",
       " '__delattr__',\n",
       " '__delitem__',\n",
       " '__dict__',\n",
       " '__dir__',\n",
       " '__div__',\n",
       " '__doc__',\n",
       " '__eq__',\n",
       " '__finalize__',\n",
       " '__floordiv__',\n",
       " '__format__',\n",
       " '__ge__',\n",
       " '__getattr__',\n",
       " '__getattribute__',\n",
       " '__getitem__',\n",
       " '__getstate__',\n",
       " '__gt__',\n",
       " '__hash__',\n",
       " '__iadd__',\n",
       " '__iand__',\n",
       " '__ifloordiv__',\n",
       " '__imod__',\n",
       " '__imul__',\n",
       " '__init__',\n",
       " '__init_subclass__',\n",
       " '__invert__',\n",
       " '__ior__',\n",
       " '__ipow__',\n",
       " '__isub__',\n",
       " '__iter__',\n",
       " '__itruediv__',\n",
       " '__ixor__',\n",
       " '__le__',\n",
       " '__len__',\n",
       " '__lt__',\n",
       " '__matmul__',\n",
       " '__mod__',\n",
       " '__module__',\n",
       " '__mul__',\n",
       " '__ne__',\n",
       " '__neg__',\n",
       " '__new__',\n",
       " '__nonzero__',\n",
       " '__or__',\n",
       " '__pos__',\n",
       " '__pow__',\n",
       " '__radd__',\n",
       " '__rand__',\n",
       " '__rdiv__',\n",
       " '__reduce__',\n",
       " '__reduce_ex__',\n",
       " '__repr__',\n",
       " '__rfloordiv__',\n",
       " '__rmatmul__',\n",
       " '__rmod__',\n",
       " '__rmul__',\n",
       " '__ror__',\n",
       " '__round__',\n",
       " '__rpow__',\n",
       " '__rsub__',\n",
       " '__rtruediv__',\n",
       " '__rxor__',\n",
       " '__setattr__',\n",
       " '__setitem__',\n",
       " '__setstate__',\n",
       " '__sizeof__',\n",
       " '__str__',\n",
       " '__sub__',\n",
       " '__subclasshook__',\n",
       " '__truediv__',\n",
       " '__weakref__',\n",
       " '__xor__',\n",
       " '_accessors',\n",
       " '_add_numeric_operations',\n",
       " '_add_series_or_dataframe_operations',\n",
       " '_agg_by_level',\n",
       " '_agg_examples_doc',\n",
       " '_agg_summary_and_see_also_doc',\n",
       " '_aggregate',\n",
       " '_aggregate_multiple_funcs',\n",
       " '_align_frame',\n",
       " '_align_series',\n",
       " '_box_col_values',\n",
       " '_box_item_values',\n",
       " '_builtin_table',\n",
       " '_check_inplace_setting',\n",
       " '_check_is_chained_assignment_possible',\n",
       " '_check_label_or_level_ambiguity',\n",
       " '_check_setitem_copy',\n",
       " '_clear_item_cache',\n",
       " '_clip_with_one_bound',\n",
       " '_clip_with_scalar',\n",
       " '_combine_frame',\n",
       " '_combine_match_index',\n",
       " '_consolidate',\n",
       " '_consolidate_inplace',\n",
       " '_construct_axes_dict',\n",
       " '_construct_axes_dict_from',\n",
       " '_construct_axes_from_arguments',\n",
       " '_construct_result',\n",
       " '_constructor',\n",
       " '_constructor_expanddim',\n",
       " '_constructor_sliced',\n",
       " '_convert',\n",
       " '_count_level',\n",
       " '_create_indexer',\n",
       " '_cython_table',\n",
       " '_deprecations',\n",
       " '_dir_additions',\n",
       " '_dir_deletions',\n",
       " '_drop_axis',\n",
       " '_drop_labels_or_levels',\n",
       " '_ensure_valid_index',\n",
       " '_find_valid_index',\n",
       " '_from_arrays',\n",
       " '_from_axes',\n",
       " '_get_agg_axis',\n",
       " '_get_axis',\n",
       " '_get_axis_name',\n",
       " '_get_axis_number',\n",
       " '_get_axis_resolvers',\n",
       " '_get_block_manager_axis',\n",
       " '_get_bool_data',\n",
       " '_get_cacher',\n",
       " '_get_cleaned_column_resolvers',\n",
       " '_get_cython_func',\n",
       " '_get_index_resolvers',\n",
       " '_get_item_cache',\n",
       " '_get_label_or_level_values',\n",
       " '_get_numeric_data',\n",
       " '_get_value',\n",
       " '_get_values',\n",
       " '_getitem_bool_array',\n",
       " '_getitem_multilevel',\n",
       " '_gotitem',\n",
       " '_iget_item_cache',\n",
       " '_indexed_same',\n",
       " '_info_axis',\n",
       " '_info_axis_name',\n",
       " '_info_axis_number',\n",
       " '_info_repr',\n",
       " '_init_mgr',\n",
       " '_internal_get_values',\n",
       " '_internal_names',\n",
       " '_internal_names_set',\n",
       " '_is_builtin_func',\n",
       " '_is_cached',\n",
       " '_is_copy',\n",
       " '_is_datelike_mixed_type',\n",
       " '_is_homogeneous_type',\n",
       " '_is_label_or_level_reference',\n",
       " '_is_label_reference',\n",
       " '_is_level_reference',\n",
       " '_is_mixed_type',\n",
       " '_is_numeric_mixed_type',\n",
       " '_is_view',\n",
       " '_ix',\n",
       " '_ixs',\n",
       " '_join_compat',\n",
       " '_maybe_cache_changed',\n",
       " '_maybe_update_cacher',\n",
       " '_metadata',\n",
       " '_needs_reindex_multi',\n",
       " '_obj_with_exclusions',\n",
       " '_protect_consolidate',\n",
       " '_reduce',\n",
       " '_reindex_axes',\n",
       " '_reindex_columns',\n",
       " '_reindex_index',\n",
       " '_reindex_multi',\n",
       " '_reindex_with_indexers',\n",
       " '_repr_data_resource_',\n",
       " '_repr_fits_horizontal_',\n",
       " '_repr_fits_vertical_',\n",
       " '_repr_html_',\n",
       " '_repr_latex_',\n",
       " '_reset_cache',\n",
       " '_reset_cacher',\n",
       " '_sanitize_column',\n",
       " '_selected_obj',\n",
       " '_selection',\n",
       " '_selection_list',\n",
       " '_selection_name',\n",
       " '_series',\n",
       " '_set_as_cached',\n",
       " '_set_axis',\n",
       " '_set_axis_name',\n",
       " '_set_is_copy',\n",
       " '_set_item',\n",
       " '_set_value',\n",
       " '_setitem_array',\n",
       " '_setitem_frame',\n",
       " '_setitem_slice',\n",
       " '_setup_axes',\n",
       " '_slice',\n",
       " '_stat_axis',\n",
       " '_stat_axis_name',\n",
       " '_stat_axis_number',\n",
       " '_take_with_is_copy',\n",
       " '_to_dict_of_blocks',\n",
       " '_try_aggregate_string_function',\n",
       " '_typ',\n",
       " '_update_inplace',\n",
       " '_validate_dtype',\n",
       " '_values',\n",
       " '_where',\n",
       " '_xs',\n",
       " 'abs',\n",
       " 'add',\n",
       " 'add_prefix',\n",
       " 'add_suffix',\n",
       " 'agg',\n",
       " 'aggregate',\n",
       " 'align',\n",
       " 'all',\n",
       " 'any',\n",
       " 'append',\n",
       " 'apply',\n",
       " 'applymap',\n",
       " 'asfreq',\n",
       " 'asof',\n",
       " 'assign',\n",
       " 'astype',\n",
       " 'at',\n",
       " 'at_time',\n",
       " 'attrs',\n",
       " 'axes',\n",
       " 'between_time',\n",
       " 'bfill',\n",
       " 'bool',\n",
       " 'boxplot',\n",
       " 'class',\n",
       " 'clip',\n",
       " 'columns',\n",
       " 'combine',\n",
       " 'combine_first',\n",
       " 'convert_dtypes',\n",
       " 'copy',\n",
       " 'corr',\n",
       " 'corrwith',\n",
       " 'count',\n",
       " 'cov',\n",
       " 'cummax',\n",
       " 'cummin',\n",
       " 'cumprod',\n",
       " 'cumsum',\n",
       " 'describe',\n",
       " 'diff',\n",
       " 'div',\n",
       " 'divide',\n",
       " 'dot',\n",
       " 'drop',\n",
       " 'drop_duplicates',\n",
       " 'droplevel',\n",
       " 'dropna',\n",
       " 'dtypes',\n",
       " 'duplicated',\n",
       " 'empty',\n",
       " 'eq',\n",
       " 'equals',\n",
       " 'eval',\n",
       " 'ewm',\n",
       " 'expanding',\n",
       " 'explode',\n",
       " 'ffill',\n",
       " 'fillna',\n",
       " 'filter',\n",
       " 'first',\n",
       " 'first_valid_index',\n",
       " 'floordiv',\n",
       " 'from_dict',\n",
       " 'from_records',\n",
       " 'ge',\n",
       " 'get',\n",
       " 'groupby',\n",
       " 'gt',\n",
       " 'head',\n",
       " 'hist',\n",
       " 'iat',\n",
       " 'idxmax',\n",
       " 'idxmin',\n",
       " 'iloc',\n",
       " 'index',\n",
       " 'infer_objects',\n",
       " 'info',\n",
       " 'insert',\n",
       " 'interpolate',\n",
       " 'isin',\n",
       " 'isna',\n",
       " 'isnull',\n",
       " 'items',\n",
       " 'iteritems',\n",
       " 'iterrows',\n",
       " 'itertuples',\n",
       " 'join',\n",
       " 'keys',\n",
       " 'kurt',\n",
       " 'kurtosis',\n",
       " 'last',\n",
       " 'last_valid_index',\n",
       " 'le',\n",
       " 'loc',\n",
       " 'lookup',\n",
       " 'lt',\n",
       " 'mad',\n",
       " 'mask',\n",
       " 'max',\n",
       " 'mean',\n",
       " 'median',\n",
       " 'melt',\n",
       " 'memory_usage',\n",
       " 'merge',\n",
       " 'min',\n",
       " 'mod',\n",
       " 'mode',\n",
       " 'mul',\n",
       " 'multiply',\n",
       " 'ndim',\n",
       " 'ne',\n",
       " 'nlargest',\n",
       " 'notna',\n",
       " 'notnull',\n",
       " 'nsmallest',\n",
       " 'nunique',\n",
       " 'pct_change',\n",
       " 'pipe',\n",
       " 'pivot',\n",
       " 'pivot_table',\n",
       " 'plot',\n",
       " 'pop',\n",
       " 'pow',\n",
       " 'prod',\n",
       " 'product',\n",
       " 'quantile',\n",
       " 'query',\n",
       " 'radd',\n",
       " 'rank',\n",
       " 'rdiv',\n",
       " 'reindex',\n",
       " 'reindex_like',\n",
       " 'rename',\n",
       " 'rename_axis',\n",
       " 'reorder_levels',\n",
       " 'replace',\n",
       " 'resample',\n",
       " 'reset_index',\n",
       " 'rfloordiv',\n",
       " 'rmod',\n",
       " 'rmul',\n",
       " 'rolling',\n",
       " 'round',\n",
       " 'rpow',\n",
       " 'rsub',\n",
       " 'rtruediv',\n",
       " 'sample',\n",
       " 'select_dtypes',\n",
       " 'sem',\n",
       " 'set_axis',\n",
       " 'set_index',\n",
       " 'shape',\n",
       " 'shift',\n",
       " 'size',\n",
       " 'skew',\n",
       " 'slice_shift',\n",
       " 'sort_index',\n",
       " 'sort_values',\n",
       " 'squeeze',\n",
       " 'stack',\n",
       " 'std',\n",
       " 'style',\n",
       " 'sub',\n",
       " 'subtract',\n",
       " 'sum',\n",
       " 'swapaxes',\n",
       " 'swaplevel',\n",
       " 'tail',\n",
       " 'take',\n",
       " 'to_clipboard',\n",
       " 'to_csv',\n",
       " 'to_dict',\n",
       " 'to_excel',\n",
       " 'to_feather',\n",
       " 'to_gbq',\n",
       " 'to_hdf',\n",
       " 'to_html',\n",
       " 'to_json',\n",
       " 'to_latex',\n",
       " 'to_markdown',\n",
       " 'to_numpy',\n",
       " 'to_parquet',\n",
       " 'to_period',\n",
       " 'to_pickle',\n",
       " 'to_records',\n",
       " 'to_sql',\n",
       " 'to_stata',\n",
       " 'to_string',\n",
       " 'to_timestamp',\n",
       " 'to_xarray',\n",
       " 'transform',\n",
       " 'transpose',\n",
       " 'truediv',\n",
       " 'truncate',\n",
       " 'tshift',\n",
       " 'tz_convert',\n",
       " 'tz_localize',\n",
       " 'unstack',\n",
       " 'update',\n",
       " 'values',\n",
       " 'var',\n",
       " 'where',\n",
       " 'xs']"
      ]
     },
     "execution_count": 15,
     "metadata": {},
     "output_type": "execute_result"
    }
   ],
   "source": [
    "dir(\n",
    "df_shopping_pca)"
   ]
  },
  {
   "cell_type": "code",
   "execution_count": 8,
   "metadata": {},
   "outputs": [
    {
     "data": {
      "text/plain": [
       "array([0.33690046, 0.26230645, 0.23260639])"
      ]
     },
     "execution_count": 8,
     "metadata": {},
     "output_type": "execute_result"
    }
   ],
   "source": [
    "# Fetch the explained variance\n",
    "pca.explained_variance_ratio_\n"
   ]
  },
  {
   "cell_type": "markdown",
   "metadata": {},
   "source": [
    "**Sample Conclusions**\n",
    "\n",
    "Defining three principal components, we have `83.1%` of the information in the original dataset, so we can conclude that using three principal components is a better approach to reduce the dimensions in this case."
   ]
  },
  {
   "cell_type": "markdown",
   "metadata": {},
   "source": [
    "6. Fit the K-Means algorithm with `k=6` and the principal components data."
   ]
  },
  {
   "cell_type": "code",
   "execution_count": 9,
   "metadata": {},
   "outputs": [
    {
     "data": {
      "text/html": [
       "<div>\n",
       "<style scoped>\n",
       "    .dataframe tbody tr th:only-of-type {\n",
       "        vertical-align: middle;\n",
       "    }\n",
       "\n",
       "    .dataframe tbody tr th {\n",
       "        vertical-align: top;\n",
       "    }\n",
       "\n",
       "    .dataframe thead th {\n",
       "        text-align: right;\n",
       "    }\n",
       "</style>\n",
       "<table border=\"1\" class=\"dataframe\">\n",
       "  <thead>\n",
       "    <tr style=\"text-align: right;\">\n",
       "      <th></th>\n",
       "      <th>principal component 1</th>\n",
       "      <th>principal component 2</th>\n",
       "      <th>principal component 3</th>\n",
       "      <th>class</th>\n",
       "    </tr>\n",
       "  </thead>\n",
       "  <tbody>\n",
       "    <tr>\n",
       "      <th>0</th>\n",
       "      <td>-0.406383</td>\n",
       "      <td>-0.520714</td>\n",
       "      <td>-2.072527</td>\n",
       "      <td>3</td>\n",
       "    </tr>\n",
       "    <tr>\n",
       "      <th>1</th>\n",
       "      <td>-1.427673</td>\n",
       "      <td>-0.367310</td>\n",
       "      <td>-2.277644</td>\n",
       "      <td>3</td>\n",
       "    </tr>\n",
       "    <tr>\n",
       "      <th>2</th>\n",
       "      <td>0.050761</td>\n",
       "      <td>-1.894068</td>\n",
       "      <td>-0.367375</td>\n",
       "      <td>2</td>\n",
       "    </tr>\n",
       "    <tr>\n",
       "      <th>3</th>\n",
       "      <td>-1.694513</td>\n",
       "      <td>-1.631908</td>\n",
       "      <td>-0.717467</td>\n",
       "      <td>3</td>\n",
       "    </tr>\n",
       "    <tr>\n",
       "      <th>4</th>\n",
       "      <td>-0.313108</td>\n",
       "      <td>-1.810483</td>\n",
       "      <td>-0.426460</td>\n",
       "      <td>2</td>\n",
       "    </tr>\n",
       "  </tbody>\n",
       "</table>\n",
       "</div>"
      ],
      "text/plain": [
       "   principal component 1  principal component 2  principal component 3  class\n",
       "0              -0.406383              -0.520714              -2.072527      3\n",
       "1              -1.427673              -0.367310              -2.277644      3\n",
       "2               0.050761              -1.894068              -0.367375      2\n",
       "3              -1.694513              -1.631908              -0.717467      3\n",
       "4              -0.313108              -1.810483              -0.426460      2"
      ]
     },
     "execution_count": 9,
     "metadata": {},
     "output_type": "execute_result"
    }
   ],
   "source": [
    "# Initialize the K-Means model\n",
    "model = KMeans(n_clusters=6, random_state=0)\n",
    "\n",
    "# Fit the model\n",
    "model.fit(df_shopping_pca)\n",
    "\n",
    "# Predict clusters\n",
    "predictions = model.predict(df_shopping_pca)\n",
    "\n",
    "# Add the predicted class columns\n",
    "df_shopping_pca[\"class\"] = model.labels_\n",
    "df_shopping_pca.head()\n"
   ]
  },
  {
   "cell_type": "markdown",
   "metadata": {},
   "source": [
    "7. Plot the resulting clusters, use the appropriate scatter plot depending on the number of dimensions you have."
   ]
  },
  {
   "cell_type": "code",
   "execution_count": 11,
   "metadata": {},
   "outputs": [
    {
     "data": {
      "application/vnd.plotly.v1+json": {
       "config": {
        "plotlyServerURL": "https://plot.ly"
       },
       "data": [
        {
         "hovertemplate": "class=%{marker.color}<br>principal component 3=%{x}<br>principal component 2=%{y}<br>principal component 1=%{z}<extra></extra>",
         "legendgroup": "3",
         "marker": {
          "color": [
           3,
           3,
           3,
           3,
           3,
           3,
           3,
           3,
           3,
           3,
           3,
           3,
           3,
           3,
           3,
           3,
           3,
           3,
           3,
           3,
           3,
           3,
           3,
           3
          ],
          "coloraxis": "coloraxis",
          "symbol": "circle"
         },
         "mode": "markers",
         "name": "3",
         "scene": "scene",
         "showlegend": true,
         "type": "scatter3d",
         "x": [
          -2.0725266304121193,
          -2.277643691565922,
          -0.7174666909600198,
          -0.6963794225535126,
          -0.7584635961731833,
          -0.5557697021592274,
          -0.6550076466978747,
          -0.6104099427450138,
          -2.135414569834017,
          -2.0594866218135923,
          -0.5514320367125983,
          -1.9789796776369,
          -1.9017125409802986,
          -1.8932914153746958,
          -1.729251033107368,
          -0.45109723909226407,
          -0.3698673076315078,
          -1.920083554967499,
          -0.3385779552454516,
          -0.19254558605601543,
          -0.21727554972857824,
          -1.7445427917659528,
          0.002703370079204708,
          -0.07998641537254723
         ],
         "y": [
          -0.5207136347541814,
          -0.36731019850646507,
          -1.631908046376114,
          -1.5992641803386478,
          -1.5053736875274355,
          -1.6164046413069515,
          -1.545427839338518,
          -1.522512589731786,
          -0.23671914937156757,
          -0.24471564122901412,
          -1.4325977447537257,
          -0.16624751103389723,
          -0.1816870173989775,
          -0.04311506139166495,
          -0.1719069697212864,
          -1.2121199030829255,
          -1.2241232127435882,
          0.22485527030599148,
          -1.1044409860268527,
          -1.1742594020487036,
          -1.0042035247144605,
          0.32625267632891963,
          -1.0837365309459672,
          -1.0156190695273397
         ],
         "z": [
          -0.40638271515795443,
          -1.4276728699542136,
          -1.6945131001694167,
          -1.7174462723869477,
          -2.1483215883541984,
          -1.2162947672439082,
          -1.689470377641946,
          -1.6460733883910428,
          -1.3261307015730706,
          -1.0784245398454664,
          -1.6637316850276498,
          -1.0189505128416585,
          -0.7229727219419833,
          -1.0624115725397136,
          -0.20618822719626792,
          -1.9642041381454163,
          -1.689830671589702,
          -1.8732969500021543,
          -1.9038655693749456,
          -1.2464443678738226,
          -1.794158676612286,
          -1.578247771316293,
          -0.8782291512115789,
          -1.3304766384693374
         ]
        },
        {
         "hovertemplate": "class=%{marker.color}<br>principal component 3=%{x}<br>principal component 2=%{y}<br>principal component 1=%{z}<extra></extra>",
         "legendgroup": "2",
         "marker": {
          "color": [
           2,
           2,
           2,
           2,
           2,
           2,
           2,
           2,
           2,
           2,
           2,
           2,
           2,
           2,
           2,
           2,
           2,
           2,
           2,
           2,
           2,
           2,
           2,
           2,
           2,
           2,
           2,
           2,
           2,
           2,
           2,
           2,
           2,
           2,
           2,
           2,
           2,
           2,
           2,
           2,
           2,
           2,
           2,
           2
          ],
          "coloraxis": "coloraxis",
          "symbol": "diamond"
         },
         "mode": "markers",
         "name": "2",
         "scene": "scene",
         "showlegend": true,
         "type": "scatter3d",
         "x": [
          -0.36737523170666275,
          -0.4264599236710298,
          -0.1864915933832781,
          0.016939167337609255,
          -0.26654389324418404,
          0.08740357488137608,
          0.18365591718758756,
          0.009172120231072436,
          -0.004873098042663791,
          0.26258234201846453,
          0.20976294664328057,
          0.18305158556864035,
          0.41461266967365656,
          0.3357650136712404,
          0.22596298908858584,
          0.06636705819983921,
          0.11044321874161844,
          0.1280094620817402,
          0.2822226310119922,
          0.13809088070647052,
          0.35268804340060994,
          0.3595296545052493,
          0.5631608542542681,
          0.41186638846115664,
          0.38753830768970765,
          0.6177203163218914,
          0.30682991964003326,
          0.48965506852883944,
          0.5912901727935458,
          0.5541762887112249,
          0.5366090405262521,
          0.6300633450501424,
          0.5931100131592968,
          0.6716355599339113,
          0.7159121595038219,
          0.850858905238169,
          0.7090296567176754,
          0.6281607164765256,
          0.7333976243257804,
          0.794798697498043,
          0.7791330730418355,
          0.8101820995631047,
          0.8787060013863011,
          0.8634422598312073
         ],
         "y": [
          -1.8940677431734176,
          -1.8104827229475524,
          -1.9472711231346205,
          -2.0239447888163213,
          -1.7434457225503464,
          -1.828669357439307,
          -1.7645119588687985,
          -1.6254161367177844,
          -1.563006447705596,
          -1.5812585396653858,
          -1.487938667952972,
          -1.319600888970938,
          -1.4701325172117237,
          -1.3499077218383473,
          -1.2199558687981902,
          -1.0808569291192693,
          -1.1157739296227107,
          -1.1306568411100717,
          -1.166116410270154,
          -0.9949473431804716,
          -1.172396362539345,
          -1.1305945011699428,
          -1.154016473171391,
          -1.0292298238810327,
          -0.9542259428324911,
          -1.148275972030934,
          -0.8843903830616544,
          -0.9868370801359395,
          -1.02631905208427,
          -0.9982713274617572,
          -0.7818330323281907,
          -0.8556738511382898,
          -0.8253358483008162,
          -0.7485858164579079,
          -0.7302511232810973,
          -0.7989267383413978,
          -0.6214590164695855,
          -0.5539137349137097,
          -0.6455014820528355,
          -0.5979591195429761,
          -0.48172555698778374,
          -0.4662564394165923,
          -0.42329307457270077,
          -0.40211150830320974
         ],
         "z": [
          0.05076057064985016,
          -0.313108382645283,
          0.7908211244257664,
          1.6858225266861937,
          0.016772825250206447,
          1.358914921793771,
          1.5131593111179225,
          0.5888329082822439,
          0.3684264400959597,
          1.2651569258897137,
          0.8393445904066122,
          0.3024324438401299,
          1.4938759431071396,
          0.8904217399754482,
          0.21954068055520432,
          -0.7025923326402408,
          -0.4705191605153131,
          -0.37178251253093675,
          0.24970996494043993,
          -0.6924866296286212,
          0.48551726967594655,
          0.4013169164741294,
          1.1371790315325583,
          0.3087196858373404,
          0.00544171232280988,
          1.292984421783734,
          -0.4576079371069289,
          0.41602129386299136,
          0.8709062189112113,
          0.6842350851144392,
          0.022783527502133666,
          0.5135971765800996,
          0.3121575949473146,
          0.3824337841231027,
          0.4553676690460322,
          1.1037596043989721,
          0.12122395198590515,
          -0.3270572496078207,
          0.2801310861344502,
          0.35173612318380904,
          -0.03177591786850624,
          0.05769931091423487,
          0.15993793845573653,
          0.0208622326273537
         ]
        },
        {
         "hovertemplate": "class=%{marker.color}<br>principal component 3=%{x}<br>principal component 2=%{y}<br>principal component 1=%{z}<extra></extra>",
         "legendgroup": "0",
         "marker": {
          "color": [
           0,
           0,
           0,
           0,
           0,
           0,
           0,
           0,
           0,
           0,
           0,
           0,
           0,
           0,
           0,
           0,
           0,
           0,
           0,
           0,
           0,
           0,
           0,
           0,
           0,
           0,
           0,
           0,
           0,
           0,
           0,
           0,
           0,
           0,
           0,
           0,
           0,
           0,
           0,
           0,
           0,
           0,
           0,
           0,
           0
          ],
          "coloraxis": "coloraxis",
          "symbol": "square"
         },
         "mode": "markers",
         "name": "0",
         "scene": "scene",
         "showlegend": true,
         "type": "scatter3d",
         "x": [
          -1.3881411248625015,
          -1.4201135776959657,
          -1.6537368377212232,
          -1.533116527806906,
          -1.6896730902036934,
          -1.1583231219844776,
          -1.146099753766195,
          -1.2122683923896909,
          -1.1446280300420335,
          -1.1492878047164645,
          -0.9580006385405477,
          -1.0493937719890483,
          -0.9531005380013298,
          -0.9389356592176255,
          -0.8740933346522894,
          -0.8054497723191252,
          -0.9776310674906121,
          -0.8442239494205729,
          -0.7033728983166492,
          -0.8967621272494628,
          -0.7652576377530399,
          -0.703575347034483,
          -0.6022613471527272,
          -0.7444515868928273,
          -0.6229477375029716,
          -0.4840780838011256,
          -0.5281542443429048,
          -0.5581452997742918,
          -0.464693004940104,
          -0.1969154556511739,
          -0.29170894881124076,
          -0.45850848686908435,
          -0.35343313605615606,
          -0.27866894021271404,
          -0.19727845656048276,
          -0.16514545153554308,
          -0.19149481654572545,
          -0.011535609379387263,
          -0.025420275461648316,
          0.01869577191678702,
          -0.0005307644424615941,
          0.1907564017334549,
          0.3276835400250285,
          0.33104300805508724,
          0.622502409970161
         ],
         "y": [
          -0.8829876717475741,
          -0.8612370431432378,
          -0.6127909605390388,
          -0.5726760275517806,
          -0.3929211449929145,
          -0.5279135219026126,
          -0.38819564740584345,
          -0.047514830402512254,
          0.08362969608219864,
          0.09679762674525737,
          -0.01767108250262964,
          0.15981066559026164,
          0.07337409597985559,
          0.16384865336354207,
          0.15699496246764585,
          0.3528425737074121,
          0.4982370506405566,
          0.38375275640763745,
          0.2692700209386718,
          0.4306917690846808,
          0.6179675910763419,
          0.6191290945508311,
          0.5750665661725791,
          0.6969923161491786,
          0.6489260874956172,
          0.5327252536744428,
          0.5676422541778844,
          0.5911109811344292,
          0.9203809296167413,
          0.7051540104406674,
          0.7864378437584004,
          1.029748333818912,
          1.137425692111031,
          1.0624358372835683,
          1.052722805837866,
          1.0332624554484904,
          1.055586822679532,
          1.2411585725400627,
          1.3058585397672118,
          1.3219029547290617,
          1.3396483242941353,
          1.2251796150462482,
          1.3597774819843624,
          1.6065693649404347,
          2.113398986440799
         ],
         "z": [
          2.7742862260886687,
          2.62905084495602,
          1.1744362769650316,
          1.4875878004377288,
          0.4880903105484145,
          2.5475919417038164,
          2.2013172145981383,
          1.0997289218169461,
          1.001836557642554,
          0.9160954614703922,
          1.868629912104527,
          1.0782724221226088,
          1.6508608817087043,
          1.4381548317970316,
          1.6768317273764541,
          1.3459578368199983,
          0.38129237614031325,
          1.140551969523181,
          1.9009082577261656,
          0.8295735777340392,
          0.7481787449289866,
          0.934617725672305,
          1.4190395463925511,
          0.6104116290174953,
          1.1236941442060855,
          1.8948525945810504,
          1.6627794224561232,
          1.5067418791514937,
          0.8721257089736004,
          2.3020342087232577,
          1.7629489304732209,
          0.5362090958896748,
          0.5954509698400292,
          1.0909071057857094,
          1.3505121245054108,
          1.4809790578020467,
          1.3328740858254822,
          1.4544595776235598,
          1.2192846616012627,
          1.3069869943602048,
          1.1895156128757831,
          2.1420500635099176,
          2.216924927062948,
          1.5473086450691236,
          1.088709271165646
         ]
        },
        {
         "hovertemplate": "class=%{marker.color}<br>principal component 3=%{x}<br>principal component 2=%{y}<br>principal component 1=%{z}<extra></extra>",
         "legendgroup": "4",
         "marker": {
          "color": [
           4,
           4,
           4,
           4,
           4,
           4,
           4,
           4,
           4,
           4,
           4,
           4,
           4,
           4,
           4,
           4,
           4,
           4,
           4,
           4,
           4,
           4,
           4,
           4,
           4,
           4,
           4,
           4,
           4,
           4,
           4,
           4,
           4
          ],
          "coloraxis": "coloraxis",
          "symbol": "x"
         },
         "mode": "markers",
         "name": "4",
         "scene": "scene",
         "showlegend": true,
         "type": "scatter3d",
         "x": [
          -1.3975576000998513,
          -1.3957377597341,
          -1.3765920018930144,
          -1.367808880222954,
          -1.132406671513453,
          -1.0323111949130548,
          -1.0109038269684487,
          -0.9919585081554942,
          -0.9866166378785067,
          -0.9411614018638949,
          -0.9057885893188642,
          -0.8148382304529844,
          -0.8458733775513859,
          -0.8091613763701788,
          -0.7206879509036695,
          -0.7119048292336088,
          -0.713645900770899,
          -0.46923311910456666,
          -0.7705487563050573,
          -0.7777523634741544,
          -0.6633713427352322,
          -0.6088517675042653,
          -0.2707443554492554,
          -0.3166683734602764,
          -0.4154246614244983,
          -0.4352934065496477,
          -0.3678274758163336,
          -0.28606212152162797,
          -0.21968117413683566,
          -0.0343530844348703,
          0.5831776675092897,
          1.1503412131664545,
          0.7881460462047827
         ],
         "y": [
          0.2478983173208879,
          0.4488815211043418,
          0.530768704254891,
          0.5233272485112106,
          0.6264583378713795,
          0.5411676867504304,
          0.7799474928640239,
          0.8085829823343209,
          0.8555375799963963,
          0.8641389804506125,
          0.9385862666214346,
          1.0067504829951588,
          1.1161100933775625,
          1.1831143650407507,
          1.1178609204637888,
          1.1104194647201084,
          1.2129144755134438,
          1.0864331066756752,
          1.3514692877717704,
          1.455680838153361,
          1.4121936071657677,
          1.3669726928409331,
          1.2708636143386092,
          1.581775490839312,
          1.6596231274526272,
          1.6682073841578582,
          1.672232904474013,
          1.8428905728771192,
          2.083400944800047,
          2.0405045961881436,
          2.765010382457772,
          2.861930094544692,
          3.1372561632411013
         ],
         "z": [
          -0.2815077131008843,
          -0.8402563370647813,
          -0.9967581864763181,
          -0.9473898624841298,
          -0.4698679887189827,
          0.0958845943591648,
          -0.5193003831583223,
          -0.51666294536786,
          -0.6343664799057354,
          -0.49839251797472184,
          -0.6044293485739534,
          -0.47685226407791215,
          -0.8182523512624224,
          -0.8760175526895825,
          -0.44140810411175246,
          -0.39203978011956425,
          -0.6847477445155681,
          0.3532720947034815,
          -1.2185581471846814,
          -1.5231649685727826,
          -1.0405160438763355,
          -0.7403398142591738,
          0.48498354746985756,
          -0.4213248389828155,
          -0.9388057928888917,
          -0.997203383029262,
          -0.8284024409658718,
          -0.994630015685951,
          -1.4295356877643859,
          -0.75538480184047,
          -0.7237191611767193,
          0.7670962256094679,
          -1.0650152362020784
         ]
        },
        {
         "hovertemplate": "class=%{marker.color}<br>principal component 3=%{x}<br>principal component 2=%{y}<br>principal component 1=%{z}<extra></extra>",
         "legendgroup": "1",
         "marker": {
          "color": [
           1,
           1,
           1,
           1,
           1,
           1,
           1,
           1,
           1,
           1,
           1,
           1,
           1,
           1,
           1,
           1,
           1,
           1,
           1,
           1,
           1,
           1,
           1,
           1,
           1,
           1,
           1,
           1,
           1,
           1,
           1,
           1,
           1,
           1,
           1,
           1
          ],
          "coloraxis": "coloraxis",
          "symbol": "cross"
         },
         "mode": "markers",
         "name": "1",
         "scene": "scene",
         "showlegend": true,
         "type": "scatter3d",
         "x": [
          0.1925695642559305,
          0.34868234722524555,
          0.3046061866834662,
          0.39769849514289873,
          0.5011544446182071,
          0.5418292406035693,
          0.6035514181587822,
          0.5806831913783289,
          0.5240615533904651,
          0.596227145634866,
          0.5944063004242638,
          0.8347096145178339,
          0.8637224725326506,
          0.6794922407572234,
          0.903915611943587,
          0.760440954671685,
          0.6773093994821634,
          0.8394082711840694,
          0.9967267028567252,
          0.7826659678413862,
          0.8761601592019325,
          0.9428233289778704,
          0.7772832058828913,
          0.8619543887367208,
          0.8884643059383786,
          0.8512297565012384,
          0.8649129787105172,
          1.1025379155317339,
          0.994717288351157,
          1.0652225875764307,
          1.3039044906426787,
          1.2915195653880691,
          1.4917494005806708,
          1.541448648945732,
          1.7231878096411657,
          1.932441092368615
         ],
         "y": [
          -0.8895742893243921,
          -0.622127823770437,
          -0.5872108232669954,
          -0.5150382303261019,
          -0.5550923821371845,
          -0.4846519137695785,
          -0.43252899482979756,
          -0.4136392655392206,
          -0.32146531231626396,
          -0.27964630719787614,
          -0.27907412733512427,
          -0.28645324313867593,
          -0.24693698369237418,
          -0.11414137508744343,
          -0.18336734996965018,
          -0.07976382571273602,
          0.03244421652630122,
          -0.04710437469023731,
          -0.06481389799338631,
          0.09374071578305014,
          0.07086131243824255,
          0.06343544167959426,
          0.19738008630188877,
          0.13098072323546997,
          0.11094663421938931,
          0.18766549609223315,
          0.2712692188310379,
          0.27877613204275387,
          0.41044608343512007,
          0.4551275466312202,
          0.7031276880168784,
          0.7626749189513541,
          0.8446104158209532,
          0.810267153944217,
          1.1458606921229104,
          1.3245678423943728
         ],
         "z": [
          -0.8106544702734036,
          -1.0366522954978954,
          -1.2687254676228235,
          -1.1667189931347757,
          -0.7078677824225227,
          -0.7872373081936439,
          -0.745169166816311,
          -0.8705731196287979,
          -1.2895495786039517,
          -1.1793783797343846,
          -1.1833446653984174,
          -0.36087691240116276,
          -0.42701873330661616,
          -1.3121027731184054,
          -0.4620829155696986,
          -1.1525632502566507,
          -1.7048762333723562,
          -0.9822215652229159,
          -0.47491038477561043,
          -1.5308004157280422,
          -1.1843576060160614,
          -0.941714424772607,
          -1.8314409514521106,
          -1.389995626366333,
          -1.2566591022257814,
          -1.5729326275525262,
          -1.74133333395616,
          -1.0154088393030483,
          -1.6970920608952729,
          -1.6056555955257514,
          -1.5090083250224575,
          -1.7106800597086964,
          -1.286260642546316,
          -1.0570570612653039,
          -1.349849354065138,
          -1.1795717394785539
         ]
        },
        {
         "hovertemplate": "class=%{marker.color}<br>principal component 3=%{x}<br>principal component 2=%{y}<br>principal component 1=%{z}<extra></extra>",
         "legendgroup": "5",
         "marker": {
          "color": [
           5,
           5,
           5,
           5,
           5,
           5,
           5,
           5,
           5,
           5,
           5,
           5,
           5,
           5,
           5,
           5,
           5,
           5
          ],
          "coloraxis": "coloraxis",
          "symbol": "circle"
         },
         "mode": "markers",
         "name": "5",
         "scene": "scene",
         "showlegend": true,
         "type": "scatter3d",
         "x": [
          0.95807620564465,
          1.0179775379892608,
          0.9617168912210033,
          1.2385168831999303,
          1.4124382450638566,
          1.19399794807553,
          1.2924331316568014,
          1.3399904304283101,
          1.3428692467287942,
          1.4061699339401204,
          1.645496055461971,
          1.6341272047708855,
          1.6812826206412808,
          1.9241297672295166,
          1.8961998828735196,
          1.8029061305411045,
          2.3718635091502316,
          2.438083904343549
         ],
         "y": [
          -0.687241003482109,
          -0.6345459046795766,
          -0.48682997956140706,
          -0.4037298616894121,
          -0.4500639657696857,
          -0.12316689671935513,
          -0.20559508976259175,
          -0.24394672820649757,
          -0.20558106354151295,
          0.14486733368238391,
          -0.0010821793645270114,
          0.44955224792480525,
          0.5062526057666007,
          0.407829870244517,
          0.5349395264838542,
          0.6110706235089142,
          0.9828408518675914,
          1.2210609455755586
         ],
         "z": [
          1.1374308683413332,
          1.1755327240546336,
          0.5826485300414687,
          1.195700317587401,
          1.8903588330351604,
          0.30084673997659667,
          0.8478645895546989,
          1.1026387808437046,
          1.0400427519858484,
          0.26415748633933916,
          1.4271607847544403,
          0.17786775565643984,
          0.18820561172151312,
          1.2295390899347063,
          0.7739577057261255,
          0.26837560881214634,
          1.0928883525986535,
          0.6727511283562319
         ]
        }
       ],
       "layout": {
        "coloraxis": {
         "colorbar": {
          "title": {
           "text": "class"
          }
         },
         "colorscale": [
          [
           0,
           "#0d0887"
          ],
          [
           0.1111111111111111,
           "#46039f"
          ],
          [
           0.2222222222222222,
           "#7201a8"
          ],
          [
           0.3333333333333333,
           "#9c179e"
          ],
          [
           0.4444444444444444,
           "#bd3786"
          ],
          [
           0.5555555555555556,
           "#d8576b"
          ],
          [
           0.6666666666666666,
           "#ed7953"
          ],
          [
           0.7777777777777778,
           "#fb9f3a"
          ],
          [
           0.8888888888888888,
           "#fdca26"
          ],
          [
           1,
           "#f0f921"
          ]
         ]
        },
        "legend": {
         "title": {
          "text": "class"
         },
         "tracegroupgap": 0,
         "x": 0,
         "y": 1
        },
        "margin": {
         "t": 60
        },
        "scene": {
         "domain": {
          "x": [
           0,
           1
          ],
          "y": [
           0,
           1
          ]
         },
         "xaxis": {
          "title": {
           "text": "principal component 3"
          }
         },
         "yaxis": {
          "title": {
           "text": "principal component 2"
          }
         },
         "zaxis": {
          "title": {
           "text": "principal component 1"
          }
         }
        },
        "template": {
         "data": {
          "bar": [
           {
            "error_x": {
             "color": "#2a3f5f"
            },
            "error_y": {
             "color": "#2a3f5f"
            },
            "marker": {
             "line": {
              "color": "#E5ECF6",
              "width": 0.5
             }
            },
            "type": "bar"
           }
          ],
          "barpolar": [
           {
            "marker": {
             "line": {
              "color": "#E5ECF6",
              "width": 0.5
             }
            },
            "type": "barpolar"
           }
          ],
          "carpet": [
           {
            "aaxis": {
             "endlinecolor": "#2a3f5f",
             "gridcolor": "white",
             "linecolor": "white",
             "minorgridcolor": "white",
             "startlinecolor": "#2a3f5f"
            },
            "baxis": {
             "endlinecolor": "#2a3f5f",
             "gridcolor": "white",
             "linecolor": "white",
             "minorgridcolor": "white",
             "startlinecolor": "#2a3f5f"
            },
            "type": "carpet"
           }
          ],
          "choropleth": [
           {
            "colorbar": {
             "outlinewidth": 0,
             "ticks": ""
            },
            "type": "choropleth"
           }
          ],
          "contour": [
           {
            "colorbar": {
             "outlinewidth": 0,
             "ticks": ""
            },
            "colorscale": [
             [
              0,
              "#0d0887"
             ],
             [
              0.1111111111111111,
              "#46039f"
             ],
             [
              0.2222222222222222,
              "#7201a8"
             ],
             [
              0.3333333333333333,
              "#9c179e"
             ],
             [
              0.4444444444444444,
              "#bd3786"
             ],
             [
              0.5555555555555556,
              "#d8576b"
             ],
             [
              0.6666666666666666,
              "#ed7953"
             ],
             [
              0.7777777777777778,
              "#fb9f3a"
             ],
             [
              0.8888888888888888,
              "#fdca26"
             ],
             [
              1,
              "#f0f921"
             ]
            ],
            "type": "contour"
           }
          ],
          "contourcarpet": [
           {
            "colorbar": {
             "outlinewidth": 0,
             "ticks": ""
            },
            "type": "contourcarpet"
           }
          ],
          "heatmap": [
           {
            "colorbar": {
             "outlinewidth": 0,
             "ticks": ""
            },
            "colorscale": [
             [
              0,
              "#0d0887"
             ],
             [
              0.1111111111111111,
              "#46039f"
             ],
             [
              0.2222222222222222,
              "#7201a8"
             ],
             [
              0.3333333333333333,
              "#9c179e"
             ],
             [
              0.4444444444444444,
              "#bd3786"
             ],
             [
              0.5555555555555556,
              "#d8576b"
             ],
             [
              0.6666666666666666,
              "#ed7953"
             ],
             [
              0.7777777777777778,
              "#fb9f3a"
             ],
             [
              0.8888888888888888,
              "#fdca26"
             ],
             [
              1,
              "#f0f921"
             ]
            ],
            "type": "heatmap"
           }
          ],
          "heatmapgl": [
           {
            "colorbar": {
             "outlinewidth": 0,
             "ticks": ""
            },
            "colorscale": [
             [
              0,
              "#0d0887"
             ],
             [
              0.1111111111111111,
              "#46039f"
             ],
             [
              0.2222222222222222,
              "#7201a8"
             ],
             [
              0.3333333333333333,
              "#9c179e"
             ],
             [
              0.4444444444444444,
              "#bd3786"
             ],
             [
              0.5555555555555556,
              "#d8576b"
             ],
             [
              0.6666666666666666,
              "#ed7953"
             ],
             [
              0.7777777777777778,
              "#fb9f3a"
             ],
             [
              0.8888888888888888,
              "#fdca26"
             ],
             [
              1,
              "#f0f921"
             ]
            ],
            "type": "heatmapgl"
           }
          ],
          "histogram": [
           {
            "marker": {
             "colorbar": {
              "outlinewidth": 0,
              "ticks": ""
             }
            },
            "type": "histogram"
           }
          ],
          "histogram2d": [
           {
            "colorbar": {
             "outlinewidth": 0,
             "ticks": ""
            },
            "colorscale": [
             [
              0,
              "#0d0887"
             ],
             [
              0.1111111111111111,
              "#46039f"
             ],
             [
              0.2222222222222222,
              "#7201a8"
             ],
             [
              0.3333333333333333,
              "#9c179e"
             ],
             [
              0.4444444444444444,
              "#bd3786"
             ],
             [
              0.5555555555555556,
              "#d8576b"
             ],
             [
              0.6666666666666666,
              "#ed7953"
             ],
             [
              0.7777777777777778,
              "#fb9f3a"
             ],
             [
              0.8888888888888888,
              "#fdca26"
             ],
             [
              1,
              "#f0f921"
             ]
            ],
            "type": "histogram2d"
           }
          ],
          "histogram2dcontour": [
           {
            "colorbar": {
             "outlinewidth": 0,
             "ticks": ""
            },
            "colorscale": [
             [
              0,
              "#0d0887"
             ],
             [
              0.1111111111111111,
              "#46039f"
             ],
             [
              0.2222222222222222,
              "#7201a8"
             ],
             [
              0.3333333333333333,
              "#9c179e"
             ],
             [
              0.4444444444444444,
              "#bd3786"
             ],
             [
              0.5555555555555556,
              "#d8576b"
             ],
             [
              0.6666666666666666,
              "#ed7953"
             ],
             [
              0.7777777777777778,
              "#fb9f3a"
             ],
             [
              0.8888888888888888,
              "#fdca26"
             ],
             [
              1,
              "#f0f921"
             ]
            ],
            "type": "histogram2dcontour"
           }
          ],
          "mesh3d": [
           {
            "colorbar": {
             "outlinewidth": 0,
             "ticks": ""
            },
            "type": "mesh3d"
           }
          ],
          "parcoords": [
           {
            "line": {
             "colorbar": {
              "outlinewidth": 0,
              "ticks": ""
             }
            },
            "type": "parcoords"
           }
          ],
          "pie": [
           {
            "automargin": true,
            "type": "pie"
           }
          ],
          "scatter": [
           {
            "marker": {
             "colorbar": {
              "outlinewidth": 0,
              "ticks": ""
             }
            },
            "type": "scatter"
           }
          ],
          "scatter3d": [
           {
            "line": {
             "colorbar": {
              "outlinewidth": 0,
              "ticks": ""
             }
            },
            "marker": {
             "colorbar": {
              "outlinewidth": 0,
              "ticks": ""
             }
            },
            "type": "scatter3d"
           }
          ],
          "scattercarpet": [
           {
            "marker": {
             "colorbar": {
              "outlinewidth": 0,
              "ticks": ""
             }
            },
            "type": "scattercarpet"
           }
          ],
          "scattergeo": [
           {
            "marker": {
             "colorbar": {
              "outlinewidth": 0,
              "ticks": ""
             }
            },
            "type": "scattergeo"
           }
          ],
          "scattergl": [
           {
            "marker": {
             "colorbar": {
              "outlinewidth": 0,
              "ticks": ""
             }
            },
            "type": "scattergl"
           }
          ],
          "scattermapbox": [
           {
            "marker": {
             "colorbar": {
              "outlinewidth": 0,
              "ticks": ""
             }
            },
            "type": "scattermapbox"
           }
          ],
          "scatterpolar": [
           {
            "marker": {
             "colorbar": {
              "outlinewidth": 0,
              "ticks": ""
             }
            },
            "type": "scatterpolar"
           }
          ],
          "scatterpolargl": [
           {
            "marker": {
             "colorbar": {
              "outlinewidth": 0,
              "ticks": ""
             }
            },
            "type": "scatterpolargl"
           }
          ],
          "scatterternary": [
           {
            "marker": {
             "colorbar": {
              "outlinewidth": 0,
              "ticks": ""
             }
            },
            "type": "scatterternary"
           }
          ],
          "surface": [
           {
            "colorbar": {
             "outlinewidth": 0,
             "ticks": ""
            },
            "colorscale": [
             [
              0,
              "#0d0887"
             ],
             [
              0.1111111111111111,
              "#46039f"
             ],
             [
              0.2222222222222222,
              "#7201a8"
             ],
             [
              0.3333333333333333,
              "#9c179e"
             ],
             [
              0.4444444444444444,
              "#bd3786"
             ],
             [
              0.5555555555555556,
              "#d8576b"
             ],
             [
              0.6666666666666666,
              "#ed7953"
             ],
             [
              0.7777777777777778,
              "#fb9f3a"
             ],
             [
              0.8888888888888888,
              "#fdca26"
             ],
             [
              1,
              "#f0f921"
             ]
            ],
            "type": "surface"
           }
          ],
          "table": [
           {
            "cells": {
             "fill": {
              "color": "#EBF0F8"
             },
             "line": {
              "color": "white"
             }
            },
            "header": {
             "fill": {
              "color": "#C8D4E3"
             },
             "line": {
              "color": "white"
             }
            },
            "type": "table"
           }
          ]
         },
         "layout": {
          "annotationdefaults": {
           "arrowcolor": "#2a3f5f",
           "arrowhead": 0,
           "arrowwidth": 1
          },
          "coloraxis": {
           "colorbar": {
            "outlinewidth": 0,
            "ticks": ""
           }
          },
          "colorscale": {
           "diverging": [
            [
             0,
             "#8e0152"
            ],
            [
             0.1,
             "#c51b7d"
            ],
            [
             0.2,
             "#de77ae"
            ],
            [
             0.3,
             "#f1b6da"
            ],
            [
             0.4,
             "#fde0ef"
            ],
            [
             0.5,
             "#f7f7f7"
            ],
            [
             0.6,
             "#e6f5d0"
            ],
            [
             0.7,
             "#b8e186"
            ],
            [
             0.8,
             "#7fbc41"
            ],
            [
             0.9,
             "#4d9221"
            ],
            [
             1,
             "#276419"
            ]
           ],
           "sequential": [
            [
             0,
             "#0d0887"
            ],
            [
             0.1111111111111111,
             "#46039f"
            ],
            [
             0.2222222222222222,
             "#7201a8"
            ],
            [
             0.3333333333333333,
             "#9c179e"
            ],
            [
             0.4444444444444444,
             "#bd3786"
            ],
            [
             0.5555555555555556,
             "#d8576b"
            ],
            [
             0.6666666666666666,
             "#ed7953"
            ],
            [
             0.7777777777777778,
             "#fb9f3a"
            ],
            [
             0.8888888888888888,
             "#fdca26"
            ],
            [
             1,
             "#f0f921"
            ]
           ],
           "sequentialminus": [
            [
             0,
             "#0d0887"
            ],
            [
             0.1111111111111111,
             "#46039f"
            ],
            [
             0.2222222222222222,
             "#7201a8"
            ],
            [
             0.3333333333333333,
             "#9c179e"
            ],
            [
             0.4444444444444444,
             "#bd3786"
            ],
            [
             0.5555555555555556,
             "#d8576b"
            ],
            [
             0.6666666666666666,
             "#ed7953"
            ],
            [
             0.7777777777777778,
             "#fb9f3a"
            ],
            [
             0.8888888888888888,
             "#fdca26"
            ],
            [
             1,
             "#f0f921"
            ]
           ]
          },
          "colorway": [
           "#636efa",
           "#EF553B",
           "#00cc96",
           "#ab63fa",
           "#FFA15A",
           "#19d3f3",
           "#FF6692",
           "#B6E880",
           "#FF97FF",
           "#FECB52"
          ],
          "font": {
           "color": "#2a3f5f"
          },
          "geo": {
           "bgcolor": "white",
           "lakecolor": "white",
           "landcolor": "#E5ECF6",
           "showlakes": true,
           "showland": true,
           "subunitcolor": "white"
          },
          "hoverlabel": {
           "align": "left"
          },
          "hovermode": "closest",
          "mapbox": {
           "style": "light"
          },
          "paper_bgcolor": "white",
          "plot_bgcolor": "#E5ECF6",
          "polar": {
           "angularaxis": {
            "gridcolor": "white",
            "linecolor": "white",
            "ticks": ""
           },
           "bgcolor": "#E5ECF6",
           "radialaxis": {
            "gridcolor": "white",
            "linecolor": "white",
            "ticks": ""
           }
          },
          "scene": {
           "xaxis": {
            "backgroundcolor": "#E5ECF6",
            "gridcolor": "white",
            "gridwidth": 2,
            "linecolor": "white",
            "showbackground": true,
            "ticks": "",
            "zerolinecolor": "white"
           },
           "yaxis": {
            "backgroundcolor": "#E5ECF6",
            "gridcolor": "white",
            "gridwidth": 2,
            "linecolor": "white",
            "showbackground": true,
            "ticks": "",
            "zerolinecolor": "white"
           },
           "zaxis": {
            "backgroundcolor": "#E5ECF6",
            "gridcolor": "white",
            "gridwidth": 2,
            "linecolor": "white",
            "showbackground": true,
            "ticks": "",
            "zerolinecolor": "white"
           }
          },
          "shapedefaults": {
           "line": {
            "color": "#2a3f5f"
           }
          },
          "ternary": {
           "aaxis": {
            "gridcolor": "white",
            "linecolor": "white",
            "ticks": ""
           },
           "baxis": {
            "gridcolor": "white",
            "linecolor": "white",
            "ticks": ""
           },
           "bgcolor": "#E5ECF6",
           "caxis": {
            "gridcolor": "white",
            "linecolor": "white",
            "ticks": ""
           }
          },
          "title": {
           "x": 0.05
          },
          "xaxis": {
           "automargin": true,
           "gridcolor": "white",
           "linecolor": "white",
           "ticks": "",
           "title": {
            "standoff": 15
           },
           "zerolinecolor": "white",
           "zerolinewidth": 2
          },
          "yaxis": {
           "automargin": true,
           "gridcolor": "white",
           "linecolor": "white",
           "ticks": "",
           "title": {
            "standoff": 15
           },
           "zerolinecolor": "white",
           "zerolinewidth": 2
          }
         }
        },
        "width": 800
       }
      },
      "text/html": [
       "<div>\n",
       "        \n",
       "        \n",
       "            <div id=\"bc184456-0b34-4c6f-bace-31f9f6b9bb69\" class=\"plotly-graph-div\" style=\"height:525px; width:800px;\"></div>\n",
       "            <script type=\"text/javascript\">\n",
       "                require([\"plotly\"], function(Plotly) {\n",
       "                    window.PLOTLYENV=window.PLOTLYENV || {};\n",
       "                    \n",
       "                if (document.getElementById(\"bc184456-0b34-4c6f-bace-31f9f6b9bb69\")) {\n",
       "                    Plotly.newPlot(\n",
       "                        'bc184456-0b34-4c6f-bace-31f9f6b9bb69',\n",
       "                        [{\"hovertemplate\": \"class=%{marker.color}<br>principal component 3=%{x}<br>principal component 2=%{y}<br>principal component 1=%{z}<extra></extra>\", \"legendgroup\": \"3\", \"marker\": {\"color\": [3, 3, 3, 3, 3, 3, 3, 3, 3, 3, 3, 3, 3, 3, 3, 3, 3, 3, 3, 3, 3, 3, 3, 3], \"coloraxis\": \"coloraxis\", \"symbol\": \"circle\"}, \"mode\": \"markers\", \"name\": \"3\", \"scene\": \"scene\", \"showlegend\": true, \"type\": \"scatter3d\", \"x\": [-2.0725266304121193, -2.277643691565922, -0.7174666909600198, -0.6963794225535126, -0.7584635961731833, -0.5557697021592274, -0.6550076466978747, -0.6104099427450138, -2.135414569834017, -2.0594866218135923, -0.5514320367125983, -1.9789796776369, -1.9017125409802986, -1.8932914153746958, -1.729251033107368, -0.45109723909226407, -0.3698673076315078, -1.920083554967499, -0.3385779552454516, -0.19254558605601543, -0.21727554972857824, -1.7445427917659528, 0.002703370079204708, -0.07998641537254723], \"y\": [-0.5207136347541814, -0.36731019850646507, -1.631908046376114, -1.5992641803386478, -1.5053736875274355, -1.6164046413069515, -1.545427839338518, -1.522512589731786, -0.23671914937156757, -0.24471564122901412, -1.4325977447537257, -0.16624751103389723, -0.1816870173989775, -0.04311506139166495, -0.1719069697212864, -1.2121199030829255, -1.2241232127435882, 0.22485527030599148, -1.1044409860268527, -1.1742594020487036, -1.0042035247144605, 0.32625267632891963, -1.0837365309459672, -1.0156190695273397], \"z\": [-0.40638271515795443, -1.4276728699542136, -1.6945131001694167, -1.7174462723869477, -2.1483215883541984, -1.2162947672439082, -1.689470377641946, -1.6460733883910428, -1.3261307015730706, -1.0784245398454664, -1.6637316850276498, -1.0189505128416585, -0.7229727219419833, -1.0624115725397136, -0.20618822719626792, -1.9642041381454163, -1.689830671589702, -1.8732969500021543, -1.9038655693749456, -1.2464443678738226, -1.794158676612286, -1.578247771316293, -0.8782291512115789, -1.3304766384693374]}, {\"hovertemplate\": \"class=%{marker.color}<br>principal component 3=%{x}<br>principal component 2=%{y}<br>principal component 1=%{z}<extra></extra>\", \"legendgroup\": \"2\", \"marker\": {\"color\": [2, 2, 2, 2, 2, 2, 2, 2, 2, 2, 2, 2, 2, 2, 2, 2, 2, 2, 2, 2, 2, 2, 2, 2, 2, 2, 2, 2, 2, 2, 2, 2, 2, 2, 2, 2, 2, 2, 2, 2, 2, 2, 2, 2], \"coloraxis\": \"coloraxis\", \"symbol\": \"diamond\"}, \"mode\": \"markers\", \"name\": \"2\", \"scene\": \"scene\", \"showlegend\": true, \"type\": \"scatter3d\", \"x\": [-0.36737523170666275, -0.4264599236710298, -0.1864915933832781, 0.016939167337609255, -0.26654389324418404, 0.08740357488137608, 0.18365591718758756, 0.009172120231072436, -0.004873098042663791, 0.26258234201846453, 0.20976294664328057, 0.18305158556864035, 0.41461266967365656, 0.3357650136712404, 0.22596298908858584, 0.06636705819983921, 0.11044321874161844, 0.1280094620817402, 0.2822226310119922, 0.13809088070647052, 0.35268804340060994, 0.3595296545052493, 0.5631608542542681, 0.41186638846115664, 0.38753830768970765, 0.6177203163218914, 0.30682991964003326, 0.48965506852883944, 0.5912901727935458, 0.5541762887112249, 0.5366090405262521, 0.6300633450501424, 0.5931100131592968, 0.6716355599339113, 0.7159121595038219, 0.850858905238169, 0.7090296567176754, 0.6281607164765256, 0.7333976243257804, 0.794798697498043, 0.7791330730418355, 0.8101820995631047, 0.8787060013863011, 0.8634422598312073], \"y\": [-1.8940677431734176, -1.8104827229475524, -1.9472711231346205, -2.0239447888163213, -1.7434457225503464, -1.828669357439307, -1.7645119588687985, -1.6254161367177844, -1.563006447705596, -1.5812585396653858, -1.487938667952972, -1.319600888970938, -1.4701325172117237, -1.3499077218383473, -1.2199558687981902, -1.0808569291192693, -1.1157739296227107, -1.1306568411100717, -1.166116410270154, -0.9949473431804716, -1.172396362539345, -1.1305945011699428, -1.154016473171391, -1.0292298238810327, -0.9542259428324911, -1.148275972030934, -0.8843903830616544, -0.9868370801359395, -1.02631905208427, -0.9982713274617572, -0.7818330323281907, -0.8556738511382898, -0.8253358483008162, -0.7485858164579079, -0.7302511232810973, -0.7989267383413978, -0.6214590164695855, -0.5539137349137097, -0.6455014820528355, -0.5979591195429761, -0.48172555698778374, -0.4662564394165923, -0.42329307457270077, -0.40211150830320974], \"z\": [0.05076057064985016, -0.313108382645283, 0.7908211244257664, 1.6858225266861937, 0.016772825250206447, 1.358914921793771, 1.5131593111179225, 0.5888329082822439, 0.3684264400959597, 1.2651569258897137, 0.8393445904066122, 0.3024324438401299, 1.4938759431071396, 0.8904217399754482, 0.21954068055520432, -0.7025923326402408, -0.4705191605153131, -0.37178251253093675, 0.24970996494043993, -0.6924866296286212, 0.48551726967594655, 0.4013169164741294, 1.1371790315325583, 0.3087196858373404, 0.00544171232280988, 1.292984421783734, -0.4576079371069289, 0.41602129386299136, 0.8709062189112113, 0.6842350851144392, 0.022783527502133666, 0.5135971765800996, 0.3121575949473146, 0.3824337841231027, 0.4553676690460322, 1.1037596043989721, 0.12122395198590515, -0.3270572496078207, 0.2801310861344502, 0.35173612318380904, -0.03177591786850624, 0.05769931091423487, 0.15993793845573653, 0.0208622326273537]}, {\"hovertemplate\": \"class=%{marker.color}<br>principal component 3=%{x}<br>principal component 2=%{y}<br>principal component 1=%{z}<extra></extra>\", \"legendgroup\": \"0\", \"marker\": {\"color\": [0, 0, 0, 0, 0, 0, 0, 0, 0, 0, 0, 0, 0, 0, 0, 0, 0, 0, 0, 0, 0, 0, 0, 0, 0, 0, 0, 0, 0, 0, 0, 0, 0, 0, 0, 0, 0, 0, 0, 0, 0, 0, 0, 0, 0], \"coloraxis\": \"coloraxis\", \"symbol\": \"square\"}, \"mode\": \"markers\", \"name\": \"0\", \"scene\": \"scene\", \"showlegend\": true, \"type\": \"scatter3d\", \"x\": [-1.3881411248625015, -1.4201135776959657, -1.6537368377212232, -1.533116527806906, -1.6896730902036934, -1.1583231219844776, -1.146099753766195, -1.2122683923896909, -1.1446280300420335, -1.1492878047164645, -0.9580006385405477, -1.0493937719890483, -0.9531005380013298, -0.9389356592176255, -0.8740933346522894, -0.8054497723191252, -0.9776310674906121, -0.8442239494205729, -0.7033728983166492, -0.8967621272494628, -0.7652576377530399, -0.703575347034483, -0.6022613471527272, -0.7444515868928273, -0.6229477375029716, -0.4840780838011256, -0.5281542443429048, -0.5581452997742918, -0.464693004940104, -0.1969154556511739, -0.29170894881124076, -0.45850848686908435, -0.35343313605615606, -0.27866894021271404, -0.19727845656048276, -0.16514545153554308, -0.19149481654572545, -0.011535609379387263, -0.025420275461648316, 0.01869577191678702, -0.0005307644424615941, 0.1907564017334549, 0.3276835400250285, 0.33104300805508724, 0.622502409970161], \"y\": [-0.8829876717475741, -0.8612370431432378, -0.6127909605390388, -0.5726760275517806, -0.3929211449929145, -0.5279135219026126, -0.38819564740584345, -0.047514830402512254, 0.08362969608219864, 0.09679762674525737, -0.01767108250262964, 0.15981066559026164, 0.07337409597985559, 0.16384865336354207, 0.15699496246764585, 0.3528425737074121, 0.4982370506405566, 0.38375275640763745, 0.2692700209386718, 0.4306917690846808, 0.6179675910763419, 0.6191290945508311, 0.5750665661725791, 0.6969923161491786, 0.6489260874956172, 0.5327252536744428, 0.5676422541778844, 0.5911109811344292, 0.9203809296167413, 0.7051540104406674, 0.7864378437584004, 1.029748333818912, 1.137425692111031, 1.0624358372835683, 1.052722805837866, 1.0332624554484904, 1.055586822679532, 1.2411585725400627, 1.3058585397672118, 1.3219029547290617, 1.3396483242941353, 1.2251796150462482, 1.3597774819843624, 1.6065693649404347, 2.113398986440799], \"z\": [2.7742862260886687, 2.62905084495602, 1.1744362769650316, 1.4875878004377288, 0.4880903105484145, 2.5475919417038164, 2.2013172145981383, 1.0997289218169461, 1.001836557642554, 0.9160954614703922, 1.868629912104527, 1.0782724221226088, 1.6508608817087043, 1.4381548317970316, 1.6768317273764541, 1.3459578368199983, 0.38129237614031325, 1.140551969523181, 1.9009082577261656, 0.8295735777340392, 0.7481787449289866, 0.934617725672305, 1.4190395463925511, 0.6104116290174953, 1.1236941442060855, 1.8948525945810504, 1.6627794224561232, 1.5067418791514937, 0.8721257089736004, 2.3020342087232577, 1.7629489304732209, 0.5362090958896748, 0.5954509698400292, 1.0909071057857094, 1.3505121245054108, 1.4809790578020467, 1.3328740858254822, 1.4544595776235598, 1.2192846616012627, 1.3069869943602048, 1.1895156128757831, 2.1420500635099176, 2.216924927062948, 1.5473086450691236, 1.088709271165646]}, {\"hovertemplate\": \"class=%{marker.color}<br>principal component 3=%{x}<br>principal component 2=%{y}<br>principal component 1=%{z}<extra></extra>\", \"legendgroup\": \"4\", \"marker\": {\"color\": [4, 4, 4, 4, 4, 4, 4, 4, 4, 4, 4, 4, 4, 4, 4, 4, 4, 4, 4, 4, 4, 4, 4, 4, 4, 4, 4, 4, 4, 4, 4, 4, 4], \"coloraxis\": \"coloraxis\", \"symbol\": \"x\"}, \"mode\": \"markers\", \"name\": \"4\", \"scene\": \"scene\", \"showlegend\": true, \"type\": \"scatter3d\", \"x\": [-1.3975576000998513, -1.3957377597341, -1.3765920018930144, -1.367808880222954, -1.132406671513453, -1.0323111949130548, -1.0109038269684487, -0.9919585081554942, -0.9866166378785067, -0.9411614018638949, -0.9057885893188642, -0.8148382304529844, -0.8458733775513859, -0.8091613763701788, -0.7206879509036695, -0.7119048292336088, -0.713645900770899, -0.46923311910456666, -0.7705487563050573, -0.7777523634741544, -0.6633713427352322, -0.6088517675042653, -0.2707443554492554, -0.3166683734602764, -0.4154246614244983, -0.4352934065496477, -0.3678274758163336, -0.28606212152162797, -0.21968117413683566, -0.0343530844348703, 0.5831776675092897, 1.1503412131664545, 0.7881460462047827], \"y\": [0.2478983173208879, 0.4488815211043418, 0.530768704254891, 0.5233272485112106, 0.6264583378713795, 0.5411676867504304, 0.7799474928640239, 0.8085829823343209, 0.8555375799963963, 0.8641389804506125, 0.9385862666214346, 1.0067504829951588, 1.1161100933775625, 1.1831143650407507, 1.1178609204637888, 1.1104194647201084, 1.2129144755134438, 1.0864331066756752, 1.3514692877717704, 1.455680838153361, 1.4121936071657677, 1.3669726928409331, 1.2708636143386092, 1.581775490839312, 1.6596231274526272, 1.6682073841578582, 1.672232904474013, 1.8428905728771192, 2.083400944800047, 2.0405045961881436, 2.765010382457772, 2.861930094544692, 3.1372561632411013], \"z\": [-0.2815077131008843, -0.8402563370647813, -0.9967581864763181, -0.9473898624841298, -0.4698679887189827, 0.0958845943591648, -0.5193003831583223, -0.51666294536786, -0.6343664799057354, -0.49839251797472184, -0.6044293485739534, -0.47685226407791215, -0.8182523512624224, -0.8760175526895825, -0.44140810411175246, -0.39203978011956425, -0.6847477445155681, 0.3532720947034815, -1.2185581471846814, -1.5231649685727826, -1.0405160438763355, -0.7403398142591738, 0.48498354746985756, -0.4213248389828155, -0.9388057928888917, -0.997203383029262, -0.8284024409658718, -0.994630015685951, -1.4295356877643859, -0.75538480184047, -0.7237191611767193, 0.7670962256094679, -1.0650152362020784]}, {\"hovertemplate\": \"class=%{marker.color}<br>principal component 3=%{x}<br>principal component 2=%{y}<br>principal component 1=%{z}<extra></extra>\", \"legendgroup\": \"1\", \"marker\": {\"color\": [1, 1, 1, 1, 1, 1, 1, 1, 1, 1, 1, 1, 1, 1, 1, 1, 1, 1, 1, 1, 1, 1, 1, 1, 1, 1, 1, 1, 1, 1, 1, 1, 1, 1, 1, 1], \"coloraxis\": \"coloraxis\", \"symbol\": \"cross\"}, \"mode\": \"markers\", \"name\": \"1\", \"scene\": \"scene\", \"showlegend\": true, \"type\": \"scatter3d\", \"x\": [0.1925695642559305, 0.34868234722524555, 0.3046061866834662, 0.39769849514289873, 0.5011544446182071, 0.5418292406035693, 0.6035514181587822, 0.5806831913783289, 0.5240615533904651, 0.596227145634866, 0.5944063004242638, 0.8347096145178339, 0.8637224725326506, 0.6794922407572234, 0.903915611943587, 0.760440954671685, 0.6773093994821634, 0.8394082711840694, 0.9967267028567252, 0.7826659678413862, 0.8761601592019325, 0.9428233289778704, 0.7772832058828913, 0.8619543887367208, 0.8884643059383786, 0.8512297565012384, 0.8649129787105172, 1.1025379155317339, 0.994717288351157, 1.0652225875764307, 1.3039044906426787, 1.2915195653880691, 1.4917494005806708, 1.541448648945732, 1.7231878096411657, 1.932441092368615], \"y\": [-0.8895742893243921, -0.622127823770437, -0.5872108232669954, -0.5150382303261019, -0.5550923821371845, -0.4846519137695785, -0.43252899482979756, -0.4136392655392206, -0.32146531231626396, -0.27964630719787614, -0.27907412733512427, -0.28645324313867593, -0.24693698369237418, -0.11414137508744343, -0.18336734996965018, -0.07976382571273602, 0.03244421652630122, -0.04710437469023731, -0.06481389799338631, 0.09374071578305014, 0.07086131243824255, 0.06343544167959426, 0.19738008630188877, 0.13098072323546997, 0.11094663421938931, 0.18766549609223315, 0.2712692188310379, 0.27877613204275387, 0.41044608343512007, 0.4551275466312202, 0.7031276880168784, 0.7626749189513541, 0.8446104158209532, 0.810267153944217, 1.1458606921229104, 1.3245678423943728], \"z\": [-0.8106544702734036, -1.0366522954978954, -1.2687254676228235, -1.1667189931347757, -0.7078677824225227, -0.7872373081936439, -0.745169166816311, -0.8705731196287979, -1.2895495786039517, -1.1793783797343846, -1.1833446653984174, -0.36087691240116276, -0.42701873330661616, -1.3121027731184054, -0.4620829155696986, -1.1525632502566507, -1.7048762333723562, -0.9822215652229159, -0.47491038477561043, -1.5308004157280422, -1.1843576060160614, -0.941714424772607, -1.8314409514521106, -1.389995626366333, -1.2566591022257814, -1.5729326275525262, -1.74133333395616, -1.0154088393030483, -1.6970920608952729, -1.6056555955257514, -1.5090083250224575, -1.7106800597086964, -1.286260642546316, -1.0570570612653039, -1.349849354065138, -1.1795717394785539]}, {\"hovertemplate\": \"class=%{marker.color}<br>principal component 3=%{x}<br>principal component 2=%{y}<br>principal component 1=%{z}<extra></extra>\", \"legendgroup\": \"5\", \"marker\": {\"color\": [5, 5, 5, 5, 5, 5, 5, 5, 5, 5, 5, 5, 5, 5, 5, 5, 5, 5], \"coloraxis\": \"coloraxis\", \"symbol\": \"circle\"}, \"mode\": \"markers\", \"name\": \"5\", \"scene\": \"scene\", \"showlegend\": true, \"type\": \"scatter3d\", \"x\": [0.95807620564465, 1.0179775379892608, 0.9617168912210033, 1.2385168831999303, 1.4124382450638566, 1.19399794807553, 1.2924331316568014, 1.3399904304283101, 1.3428692467287942, 1.4061699339401204, 1.645496055461971, 1.6341272047708855, 1.6812826206412808, 1.9241297672295166, 1.8961998828735196, 1.8029061305411045, 2.3718635091502316, 2.438083904343549], \"y\": [-0.687241003482109, -0.6345459046795766, -0.48682997956140706, -0.4037298616894121, -0.4500639657696857, -0.12316689671935513, -0.20559508976259175, -0.24394672820649757, -0.20558106354151295, 0.14486733368238391, -0.0010821793645270114, 0.44955224792480525, 0.5062526057666007, 0.407829870244517, 0.5349395264838542, 0.6110706235089142, 0.9828408518675914, 1.2210609455755586], \"z\": [1.1374308683413332, 1.1755327240546336, 0.5826485300414687, 1.195700317587401, 1.8903588330351604, 0.30084673997659667, 0.8478645895546989, 1.1026387808437046, 1.0400427519858484, 0.26415748633933916, 1.4271607847544403, 0.17786775565643984, 0.18820561172151312, 1.2295390899347063, 0.7739577057261255, 0.26837560881214634, 1.0928883525986535, 0.6727511283562319]}],\n",
       "                        {\"coloraxis\": {\"colorbar\": {\"title\": {\"text\": \"class\"}}, \"colorscale\": [[0.0, \"#0d0887\"], [0.1111111111111111, \"#46039f\"], [0.2222222222222222, \"#7201a8\"], [0.3333333333333333, \"#9c179e\"], [0.4444444444444444, \"#bd3786\"], [0.5555555555555556, \"#d8576b\"], [0.6666666666666666, \"#ed7953\"], [0.7777777777777778, \"#fb9f3a\"], [0.8888888888888888, \"#fdca26\"], [1.0, \"#f0f921\"]]}, \"legend\": {\"title\": {\"text\": \"class\"}, \"tracegroupgap\": 0, \"x\": 0, \"y\": 1}, \"margin\": {\"t\": 60}, \"scene\": {\"domain\": {\"x\": [0.0, 1.0], \"y\": [0.0, 1.0]}, \"xaxis\": {\"title\": {\"text\": \"principal component 3\"}}, \"yaxis\": {\"title\": {\"text\": \"principal component 2\"}}, \"zaxis\": {\"title\": {\"text\": \"principal component 1\"}}}, \"template\": {\"data\": {\"bar\": [{\"error_x\": {\"color\": \"#2a3f5f\"}, \"error_y\": {\"color\": \"#2a3f5f\"}, \"marker\": {\"line\": {\"color\": \"#E5ECF6\", \"width\": 0.5}}, \"type\": \"bar\"}], \"barpolar\": [{\"marker\": {\"line\": {\"color\": \"#E5ECF6\", \"width\": 0.5}}, \"type\": \"barpolar\"}], \"carpet\": [{\"aaxis\": {\"endlinecolor\": \"#2a3f5f\", \"gridcolor\": \"white\", \"linecolor\": \"white\", \"minorgridcolor\": \"white\", \"startlinecolor\": \"#2a3f5f\"}, \"baxis\": {\"endlinecolor\": \"#2a3f5f\", \"gridcolor\": \"white\", \"linecolor\": \"white\", \"minorgridcolor\": \"white\", \"startlinecolor\": \"#2a3f5f\"}, \"type\": \"carpet\"}], \"choropleth\": [{\"colorbar\": {\"outlinewidth\": 0, \"ticks\": \"\"}, \"type\": \"choropleth\"}], \"contour\": [{\"colorbar\": {\"outlinewidth\": 0, \"ticks\": \"\"}, \"colorscale\": [[0.0, \"#0d0887\"], [0.1111111111111111, \"#46039f\"], [0.2222222222222222, \"#7201a8\"], [0.3333333333333333, \"#9c179e\"], [0.4444444444444444, \"#bd3786\"], [0.5555555555555556, \"#d8576b\"], [0.6666666666666666, \"#ed7953\"], [0.7777777777777778, \"#fb9f3a\"], [0.8888888888888888, \"#fdca26\"], [1.0, \"#f0f921\"]], \"type\": \"contour\"}], \"contourcarpet\": [{\"colorbar\": {\"outlinewidth\": 0, \"ticks\": \"\"}, \"type\": \"contourcarpet\"}], \"heatmap\": [{\"colorbar\": {\"outlinewidth\": 0, \"ticks\": \"\"}, \"colorscale\": [[0.0, \"#0d0887\"], [0.1111111111111111, \"#46039f\"], [0.2222222222222222, \"#7201a8\"], [0.3333333333333333, \"#9c179e\"], [0.4444444444444444, \"#bd3786\"], [0.5555555555555556, \"#d8576b\"], [0.6666666666666666, \"#ed7953\"], [0.7777777777777778, \"#fb9f3a\"], [0.8888888888888888, \"#fdca26\"], [1.0, \"#f0f921\"]], \"type\": \"heatmap\"}], \"heatmapgl\": [{\"colorbar\": {\"outlinewidth\": 0, \"ticks\": \"\"}, \"colorscale\": [[0.0, \"#0d0887\"], [0.1111111111111111, \"#46039f\"], [0.2222222222222222, \"#7201a8\"], [0.3333333333333333, \"#9c179e\"], [0.4444444444444444, \"#bd3786\"], [0.5555555555555556, \"#d8576b\"], [0.6666666666666666, \"#ed7953\"], [0.7777777777777778, \"#fb9f3a\"], [0.8888888888888888, \"#fdca26\"], [1.0, \"#f0f921\"]], \"type\": \"heatmapgl\"}], \"histogram\": [{\"marker\": {\"colorbar\": {\"outlinewidth\": 0, \"ticks\": \"\"}}, \"type\": \"histogram\"}], \"histogram2d\": [{\"colorbar\": {\"outlinewidth\": 0, \"ticks\": \"\"}, \"colorscale\": [[0.0, \"#0d0887\"], [0.1111111111111111, \"#46039f\"], [0.2222222222222222, \"#7201a8\"], [0.3333333333333333, \"#9c179e\"], [0.4444444444444444, \"#bd3786\"], [0.5555555555555556, \"#d8576b\"], [0.6666666666666666, \"#ed7953\"], [0.7777777777777778, \"#fb9f3a\"], [0.8888888888888888, \"#fdca26\"], [1.0, \"#f0f921\"]], \"type\": \"histogram2d\"}], \"histogram2dcontour\": [{\"colorbar\": {\"outlinewidth\": 0, \"ticks\": \"\"}, \"colorscale\": [[0.0, \"#0d0887\"], [0.1111111111111111, \"#46039f\"], [0.2222222222222222, \"#7201a8\"], [0.3333333333333333, \"#9c179e\"], [0.4444444444444444, \"#bd3786\"], [0.5555555555555556, \"#d8576b\"], [0.6666666666666666, \"#ed7953\"], [0.7777777777777778, \"#fb9f3a\"], [0.8888888888888888, \"#fdca26\"], [1.0, \"#f0f921\"]], \"type\": \"histogram2dcontour\"}], \"mesh3d\": [{\"colorbar\": {\"outlinewidth\": 0, \"ticks\": \"\"}, \"type\": \"mesh3d\"}], \"parcoords\": [{\"line\": {\"colorbar\": {\"outlinewidth\": 0, \"ticks\": \"\"}}, \"type\": \"parcoords\"}], \"pie\": [{\"automargin\": true, \"type\": \"pie\"}], \"scatter\": [{\"marker\": {\"colorbar\": {\"outlinewidth\": 0, \"ticks\": \"\"}}, \"type\": \"scatter\"}], \"scatter3d\": [{\"line\": {\"colorbar\": {\"outlinewidth\": 0, \"ticks\": \"\"}}, \"marker\": {\"colorbar\": {\"outlinewidth\": 0, \"ticks\": \"\"}}, \"type\": \"scatter3d\"}], \"scattercarpet\": [{\"marker\": {\"colorbar\": {\"outlinewidth\": 0, \"ticks\": \"\"}}, \"type\": \"scattercarpet\"}], \"scattergeo\": [{\"marker\": {\"colorbar\": {\"outlinewidth\": 0, \"ticks\": \"\"}}, \"type\": \"scattergeo\"}], \"scattergl\": [{\"marker\": {\"colorbar\": {\"outlinewidth\": 0, \"ticks\": \"\"}}, \"type\": \"scattergl\"}], \"scattermapbox\": [{\"marker\": {\"colorbar\": {\"outlinewidth\": 0, \"ticks\": \"\"}}, \"type\": \"scattermapbox\"}], \"scatterpolar\": [{\"marker\": {\"colorbar\": {\"outlinewidth\": 0, \"ticks\": \"\"}}, \"type\": \"scatterpolar\"}], \"scatterpolargl\": [{\"marker\": {\"colorbar\": {\"outlinewidth\": 0, \"ticks\": \"\"}}, \"type\": \"scatterpolargl\"}], \"scatterternary\": [{\"marker\": {\"colorbar\": {\"outlinewidth\": 0, \"ticks\": \"\"}}, \"type\": \"scatterternary\"}], \"surface\": [{\"colorbar\": {\"outlinewidth\": 0, \"ticks\": \"\"}, \"colorscale\": [[0.0, \"#0d0887\"], [0.1111111111111111, \"#46039f\"], [0.2222222222222222, \"#7201a8\"], [0.3333333333333333, \"#9c179e\"], [0.4444444444444444, \"#bd3786\"], [0.5555555555555556, \"#d8576b\"], [0.6666666666666666, \"#ed7953\"], [0.7777777777777778, \"#fb9f3a\"], [0.8888888888888888, \"#fdca26\"], [1.0, \"#f0f921\"]], \"type\": \"surface\"}], \"table\": [{\"cells\": {\"fill\": {\"color\": \"#EBF0F8\"}, \"line\": {\"color\": \"white\"}}, \"header\": {\"fill\": {\"color\": \"#C8D4E3\"}, \"line\": {\"color\": \"white\"}}, \"type\": \"table\"}]}, \"layout\": {\"annotationdefaults\": {\"arrowcolor\": \"#2a3f5f\", \"arrowhead\": 0, \"arrowwidth\": 1}, \"coloraxis\": {\"colorbar\": {\"outlinewidth\": 0, \"ticks\": \"\"}}, \"colorscale\": {\"diverging\": [[0, \"#8e0152\"], [0.1, \"#c51b7d\"], [0.2, \"#de77ae\"], [0.3, \"#f1b6da\"], [0.4, \"#fde0ef\"], [0.5, \"#f7f7f7\"], [0.6, \"#e6f5d0\"], [0.7, \"#b8e186\"], [0.8, \"#7fbc41\"], [0.9, \"#4d9221\"], [1, \"#276419\"]], \"sequential\": [[0.0, \"#0d0887\"], [0.1111111111111111, \"#46039f\"], [0.2222222222222222, \"#7201a8\"], [0.3333333333333333, \"#9c179e\"], [0.4444444444444444, \"#bd3786\"], [0.5555555555555556, \"#d8576b\"], [0.6666666666666666, \"#ed7953\"], [0.7777777777777778, \"#fb9f3a\"], [0.8888888888888888, \"#fdca26\"], [1.0, \"#f0f921\"]], \"sequentialminus\": [[0.0, \"#0d0887\"], [0.1111111111111111, \"#46039f\"], [0.2222222222222222, \"#7201a8\"], [0.3333333333333333, \"#9c179e\"], [0.4444444444444444, \"#bd3786\"], [0.5555555555555556, \"#d8576b\"], [0.6666666666666666, \"#ed7953\"], [0.7777777777777778, \"#fb9f3a\"], [0.8888888888888888, \"#fdca26\"], [1.0, \"#f0f921\"]]}, \"colorway\": [\"#636efa\", \"#EF553B\", \"#00cc96\", \"#ab63fa\", \"#FFA15A\", \"#19d3f3\", \"#FF6692\", \"#B6E880\", \"#FF97FF\", \"#FECB52\"], \"font\": {\"color\": \"#2a3f5f\"}, \"geo\": {\"bgcolor\": \"white\", \"lakecolor\": \"white\", \"landcolor\": \"#E5ECF6\", \"showlakes\": true, \"showland\": true, \"subunitcolor\": \"white\"}, \"hoverlabel\": {\"align\": \"left\"}, \"hovermode\": \"closest\", \"mapbox\": {\"style\": \"light\"}, \"paper_bgcolor\": \"white\", \"plot_bgcolor\": \"#E5ECF6\", \"polar\": {\"angularaxis\": {\"gridcolor\": \"white\", \"linecolor\": \"white\", \"ticks\": \"\"}, \"bgcolor\": \"#E5ECF6\", \"radialaxis\": {\"gridcolor\": \"white\", \"linecolor\": \"white\", \"ticks\": \"\"}}, \"scene\": {\"xaxis\": {\"backgroundcolor\": \"#E5ECF6\", \"gridcolor\": \"white\", \"gridwidth\": 2, \"linecolor\": \"white\", \"showbackground\": true, \"ticks\": \"\", \"zerolinecolor\": \"white\"}, \"yaxis\": {\"backgroundcolor\": \"#E5ECF6\", \"gridcolor\": \"white\", \"gridwidth\": 2, \"linecolor\": \"white\", \"showbackground\": true, \"ticks\": \"\", \"zerolinecolor\": \"white\"}, \"zaxis\": {\"backgroundcolor\": \"#E5ECF6\", \"gridcolor\": \"white\", \"gridwidth\": 2, \"linecolor\": \"white\", \"showbackground\": true, \"ticks\": \"\", \"zerolinecolor\": \"white\"}}, \"shapedefaults\": {\"line\": {\"color\": \"#2a3f5f\"}}, \"ternary\": {\"aaxis\": {\"gridcolor\": \"white\", \"linecolor\": \"white\", \"ticks\": \"\"}, \"baxis\": {\"gridcolor\": \"white\", \"linecolor\": \"white\", \"ticks\": \"\"}, \"bgcolor\": \"#E5ECF6\", \"caxis\": {\"gridcolor\": \"white\", \"linecolor\": \"white\", \"ticks\": \"\"}}, \"title\": {\"x\": 0.05}, \"xaxis\": {\"automargin\": true, \"gridcolor\": \"white\", \"linecolor\": \"white\", \"ticks\": \"\", \"title\": {\"standoff\": 15}, \"zerolinecolor\": \"white\", \"zerolinewidth\": 2}, \"yaxis\": {\"automargin\": true, \"gridcolor\": \"white\", \"linecolor\": \"white\", \"ticks\": \"\", \"title\": {\"standoff\": 15}, \"zerolinecolor\": \"white\", \"zerolinewidth\": 2}}}, \"width\": 800},\n",
       "                        {\"responsive\": true}\n",
       "                    ).then(function(){\n",
       "                            \n",
       "var gd = document.getElementById('bc184456-0b34-4c6f-bace-31f9f6b9bb69');\n",
       "var x = new MutationObserver(function (mutations, observer) {{\n",
       "        var display = window.getComputedStyle(gd).display;\n",
       "        if (!display || display === 'none') {{\n",
       "            console.log([gd, 'removed!']);\n",
       "            Plotly.purge(gd);\n",
       "            observer.disconnect();\n",
       "        }}\n",
       "}});\n",
       "\n",
       "// Listen for the removal of the full notebook cells\n",
       "var notebookContainer = gd.closest('#notebook-container');\n",
       "if (notebookContainer) {{\n",
       "    x.observe(notebookContainer, {childList: true});\n",
       "}}\n",
       "\n",
       "// Listen for the clearing of the current output cell\n",
       "var outputEl = gd.closest('.output');\n",
       "if (outputEl) {{\n",
       "    x.observe(outputEl, {childList: true});\n",
       "}}\n",
       "\n",
       "                        })\n",
       "                };\n",
       "                });\n",
       "            </script>\n",
       "        </div>"
      ]
     },
     "metadata": {},
     "output_type": "display_data"
    }
   ],
   "source": [
    "# Since we have three principal components, a 3D-Scatter plot is going to be created.\n",
    "fig = px.scatter_3d(\n",
    "    df_shopping_pca,\n",
    "    x=\"principal component 3\",\n",
    "    y=\"principal component 2\",\n",
    "    z=\"principal component 1\",\n",
    "    color=\"class\",\n",
    "    symbol=\"class\",\n",
    "    width=800,\n",
    ")\n",
    "fig.update_layout(legend=dict(x=0, y=1))\n",
    "fig.show()\n"
   ]
  },
  {
   "cell_type": "code",
   "execution_count": null,
   "metadata": {},
   "outputs": [],
   "source": []
  }
 ],
 "metadata": {
  "file_extension": ".py",
  "kernel_info": {
   "name": "python3"
  },
  "kernelspec": {
   "display_name": "conda_python3",
   "language": "python",
   "name": "conda_python3"
  },
  "language_info": {
   "codemirror_mode": {
    "name": "ipython",
    "version": 3
   },
   "file_extension": ".py",
   "mimetype": "text/x-python",
   "name": "python",
   "nbconvert_exporter": "python",
   "pygments_lexer": "ipython3",
   "version": "3.6.10"
  },
  "mimetype": "text/x-python",
  "name": "python",
  "npconvert_exporter": "python",
  "nteract": {
   "version": "0.12.3"
  },
  "pygments_lexer": "ipython3",
  "version": 3
 },
 "nbformat": 4,
 "nbformat_minor": 4
}
